{
  "nbformat": 4,
  "nbformat_minor": 0,
  "metadata": {
    "colab": {
      "name": "Football-2.ipynb",
      "provenance": [],
      "collapsed_sections": []
    },
    "kernelspec": {
      "name": "python3",
      "display_name": "Python 3"
    }
  },
  "cells": [
    {
      "cell_type": "markdown",
      "metadata": {
        "id": "hBMAbw3iCy5N",
        "colab_type": "text"
      },
      "source": [
        "## Import packages"
      ]
    },
    {
      "cell_type": "code",
      "metadata": {
        "id": "Z0RDy5LJUqLI",
        "colab_type": "code",
        "outputId": "e43b4f55-db55-4845-d976-114421ccb21f",
        "colab": {
          "base_uri": "https://localhost:8080/",
          "height": 72
        }
      },
      "source": [
        "import numpy as np\n",
        "import seaborn as sns\n",
        "import pandas as pd\n",
        "import matplotlib.pyplot as plt\n",
        "from matplotlib.patches import Arc, Rectangle, ConnectionPatch\n",
        "from matplotlib.offsetbox import  OffsetImage\n",
        "import json\n",
        "from google.colab import drive\n",
        "from pandas.io.json import json_normalize\n",
        "import os"
      ],
      "execution_count": 0,
      "outputs": [
        {
          "output_type": "stream",
          "text": [
            "/usr/local/lib/python3.6/dist-packages/statsmodels/tools/_testing.py:19: FutureWarning: pandas.util.testing is deprecated. Use the functions in the public API at pandas.testing instead.\n",
            "  import pandas.util.testing as tm\n"
          ],
          "name": "stderr"
        }
      ]
    },
    {
      "cell_type": "code",
      "metadata": {
        "id": "SWx5kMrOUvCK",
        "colab_type": "code",
        "outputId": "bb0e5eea-7399-49fe-c3a1-0d00fb3a5ee2",
        "colab": {
          "base_uri": "https://localhost:8080/",
          "height": 124
        }
      },
      "source": [
        "from google.colab import drive\n",
        "drive.mount('/gdrive',force_remount=True)\n"
      ],
      "execution_count": 0,
      "outputs": [
        {
          "output_type": "stream",
          "text": [
            "Go to this URL in a browser: https://accounts.google.com/o/oauth2/auth?client_id=947318989803-6bn6qk8qdgf4n4g3pfee6491hc0brc4i.apps.googleusercontent.com&redirect_uri=urn%3aietf%3awg%3aoauth%3a2.0%3aoob&response_type=code&scope=email%20https%3a%2f%2fwww.googleapis.com%2fauth%2fdocs.test%20https%3a%2f%2fwww.googleapis.com%2fauth%2fdrive%20https%3a%2f%2fwww.googleapis.com%2fauth%2fdrive.photos.readonly%20https%3a%2f%2fwww.googleapis.com%2fauth%2fpeopleapi.readonly\n",
            "\n",
            "Enter your authorization code:\n",
            "··········\n",
            "Mounted at /gdrive\n"
          ],
          "name": "stdout"
        }
      ]
    },
    {
      "cell_type": "code",
      "metadata": {
        "id": "H6G6tBCqUxFq",
        "colab_type": "code",
        "colab": {}
      },
      "source": [
        "path='/gdrive/My Drive/datasets/football/'"
      ],
      "execution_count": 0,
      "outputs": []
    },
    {
      "cell_type": "markdown",
      "metadata": {
        "id": "x7mMhSwwC3jB",
        "colab_type": "text"
      },
      "source": [
        "## Read the data (statsbomb)"
      ]
    },
    {
      "cell_type": "code",
      "metadata": {
        "id": "0tcFeznoVcue",
        "colab_type": "code",
        "outputId": "169c8418-c3e1-4642-917e-af0484ef057e",
        "colab": {
          "base_uri": "https://localhost:8080/",
          "height": 55
        }
      },
      "source": [
        "json_files = [pos_json for pos_json in os.listdir(path) if pos_json.endswith('.json')]\n",
        "print(json_files) "
      ],
      "execution_count": 0,
      "outputs": [
        {
          "output_type": "stream",
          "text": [
            "['7298.json', '7430.json', '7443.json', '7444.json', '7445.json', '7451.json', '7456.json', '7457.json', '7471.json', '7472.json', '7473.json', '7474.json', '7475.json', '7476.json', '7477.json', '7478.json', '7479.json', '7480.json', '7482.json', '7483.json', '7484.json', '7485.json', '7486.json', '7487.json', '7490.json', '7492.json', '7493.json', '7494.json', '7496.json', '7497.json', '7500.json', '7519.json', '7520.json', '7521.json', '7522.json', '7523.json', '7524.json', '7525.json', '7529.json', '7530.json', '7531.json', '7532.json', '7533.json', '7534.json', '7535.json', '7536.json', '7537.json', '7538.json', '7539.json', '7540.json', '7541.json', '7542.json', '7543.json', '7544.json', '7545.json', '7546.json', '7547.json', '7548.json', '7549.json', '7550.json', '7551.json', '7552.json', '7553.json', '7554.json', '7555.json', '7556.json', '7557.json', '7558.json', '7559.json', '7560.json', '7561.json', '7562.json', '7563.json', '7564.json', '7565.json', '7566.json', '7567.json', '7568.json', '7569.json', '7570.json', '7571.json', '7572.json', '7576.json', '7577.json', '7578.json', '7579.json', '7580.json', '7581.json', '7582.json', '7583.json', '7584.json', '7585.json', '7586.json', '8649.json', '8650.json', '8651.json', '8652.json', '8655.json', '8656.json', '8657.json', '8658.json', '9575.json', '9581.json', '9592.json', '9602.json', '9609.json', '9620.json', '9636.json', '9642.json', '9650.json', '9661.json', '9673.json', '9682.json', '9695.json', '9700.json', '9717.json', '9726.json', '9736.json', '9742.json', '9754.json', '9765.json', '9774.json', '9783.json', '9794.json', '9799.json', '9811.json', '9827.json', '9837.json', '9855.json', '9860.json', '9870.json', '9880.json', '9889.json', '9912.json', '9924.json', '9928.json', '9948.json', '15946.json', '15956.json', '15973.json', '15978.json', '15986.json', '15998.json', '16010.json', '16023.json', '16029.json', '16056.json', '16073.json', '16079.json', '16086.json', '16095.json', '16109.json', '16120.json', '16131.json', '16136.json', '16149.json', '16157.json', '16173.json', '16182.json', '16190.json', '16196.json', '16205.json', '16215.json', '16231.json', '16240.json', '16248.json', '16265.json', '16275.json', '16289.json', '16306.json', '16317.json', '19714.json', '19715.json', '19716.json', '19717.json', '19718.json', '19719.json', '19720.json', '19722.json', '19723.json', '19724.json', '19725.json', '19726.json', '19727.json', '19728.json', '19729.json', '19730.json', '19731.json', '19732.json', '19733.json', '19734.json', '19735.json', '19736.json', '19737.json', '19738.json', '19739.json', '19740.json', '19741.json', '19742.json', '19743.json', '19744.json', '19745.json', '19746.json', '19747.json', '19748.json', '19749.json', '19750.json', '19751.json', '19752.json', '19753.json', '19754.json', '19755.json', '19756.json', '19757.json', '19758.json', '19759.json', '19760.json', '19761.json', '19762.json', '19763.json', '19764.json', '19765.json', '19766.json', '19767.json', '19768.json', '19769.json', '19770.json', '19771.json', '19772.json', '19773.json', '19774.json', '19775.json', '19776.json', '19777.json', '19778.json', '19779.json', '19780.json', '19781.json', '19782.json', '19783.json', '19784.json', '19785.json', '19786.json', '19787.json', '19788.json', '19789.json', '19790.json', '19791.json', '19792.json', '19793.json', '19794.json', '19795.json', '19796.json', '19797.json', '19798.json', '19799.json', '19800.json', '19801.json', '19802.json', '19803.json', '19804.json', '19805.json', '19806.json', '19807.json', '19808.json', '19809.json', '19810.json', '19811.json', '19813.json', '19814.json', '19815.json', '19816.json', '19817.json', '19818.json', '19819.json', '19820.json', '19821.json', '19822.json', '22536.json', '22921.json', '22924.json', '22926.json', '22930.json', '22933.json', '22934.json', '22936.json', '22939.json', '22940.json', '22942.json', '22943.json', '22944.json', '22945.json', '22948.json', '22949.json', '22955.json', '22956.json', '22961.json', '22962.json', '22963.json', '22964.json', '22966.json', '22973.json', '22974.json', '22980.json', '22981.json', '22983.json', '22984.json', '68311.json', '68312.json', '68313.json', '68314.json', '68315.json', '68316.json', '68317.json', '68318.json', '68319.json', '68320.json', '68321.json', '68322.json', '68323.json', '68324.json', '68325.json', '68326.json', '68327.json', '68328.json', '68329.json', '68330.json', '68331.json', '68332.json', '68333.json', '68334.json', '68335.json', '68336.json', '68337.json', '68338.json', '68339.json', '68340.json', '68341.json', '68342.json', '68343.json', '68344.json', '68345.json', '68346.json', '68347.json', '68348.json', '68350.json', '68351.json', '68352.json', '68353.json', '68354.json', '68355.json', '68356.json', '68357.json', '68358.json', '68359.json', '68360.json', '68361.json', '68362.json', '68363.json', '68364.json', '68365.json', '68366.json', '69137.json', '69138.json', '69139.json', '69141.json', '69142.json', '69143.json', '69144.json', '69145.json', '69146.json', '69147.json', '69148.json', '69149.json', '69151.json', '69153.json', '69154.json', '69155.json', '69156.json', '69157.json', '69158.json', '69159.json', '69160.json', '69161.json', '69162.json', '69163.json', '69164.json', '69165.json', '69166.json', '69169.json', '69170.json', '69171.json', '69172.json', '69173.json', '69174.json', '69175.json', '69176.json', '69177.json', '69178.json', '69179.json', '69180.json', '69181.json', '69182.json', '69183.json', '69184.json', '69185.json', '69186.json', '69187.json', '69188.json', '69189.json', '69191.json', '69195.json', '69199.json', '69202.json', '69205.json', '69207.json', '69208.json', '69209.json', '69210.json', '69211.json', '69212.json', '69213.json', '69214.json', '69215.json', '69216.json', '69217.json', '69218.json', '69219.json', '69220.json', '69221.json', '69222.json', '69223.json', '69224.json', '69225.json', '69226.json', '69227.json', '69228.json', '69229.json', '69230.json', '69231.json', '69232.json', '69233.json', '69234.json', '69235.json', '69236.json', '69237.json', '69238.json', '69239.json', '69240.json', '69241.json', '69242.json', '69243.json', '69244.json', '69245.json', '69246.json', '69247.json', '69248.json', '69249.json', '69250.json', '69251.json', '69252.json', '69253.json', '69254.json', '69255.json', '69256.json', '69257.json', '69258.json', '69259.json', '69260.json', '69262.json', '69263.json', '69264.json', '69265.json', '69267.json', '69268.json', '69269.json', '69270.json', '69271.json', '69272.json', '69273.json', '69274.json', '69275.json', '69276.json', '69277.json', '69278.json', '69279.json', '69280.json', '69282.json', '69283.json', '69284.json', '69285.json', '69286.json', '69287.json', '69288.json', '69289.json', '69291.json', '69292.json', '69293.json', '69295.json', '69296.json', '69297.json', '69298.json', '69299.json', '69300.json', '69301.json', '69302.json', '69303.json', '69304.json', '69305.json', '69306.json', '69307.json', '69308.json', '69312.json', '69314.json', '69315.json', '69316.json', '69318.json', '69319.json', '69320.json', '69321.json', '69322.json', '69323.json', '69324.json', '69325.json', '69326.json', '69327.json', '69328.json', '69329.json', '69330.json', '69331.json', '69332.json', '69333.json', '69334.json', '69335.json', '69336.json', '69337.json', '69338.json', '69340.json', '69343.json', '70219.json', '70220.json', '70221.json', '70223.json', '70224.json', '70225.json', '70256.json', '70259.json', '70260.json', '70262.json', '70263.json', '70264.json', '70270.json', '70271.json', '70272.json', '70273.json', '70275.json', '70276.json', '70277.json', '70280.json', '70281.json', '70282.json', '70283.json', '70284.json', '70286.json', '70287.json', '70288.json', '70289.json', '70291.json', '70292.json', '70293.json', '70294.json', '70295.json', '70296.json', '70297.json', '70298.json', '70300.json', '70301.json', '70302.json', '70303.json', '70304.json', '70305.json', '70306.json', '70307.json', '70308.json', '70309.json', '265830.json', '265835.json', '265837.json', '265839.json', '265857.json', '265866.json', '265894.json', '265896.json', '265905.json', '265918.json', '265944.json', '265952.json', '265958.json', '265963.json', '266015.json', '266033.json', '266045.json', '266056.json', '266066.json', '266074.json', '266106.json', '266117.json', '266142.json', '266148.json', '266149.json', '266160.json', '266166.json', '266191.json', '266201.json', '266230.json', '266234.json', '266236.json', '266240.json', '266254.json', '266256.json', '266273.json', '266274.json', '266280.json', '266299.json', '266310.json', '266320.json', '266357.json', '266406.json', '266420.json', '266424.json', '266433.json', '266440.json', '266462.json', '266466.json', '266467.json', '266477.json', '266490.json', '266491.json', '266498.json', '266516.json', '266525.json', '266528.json', '266531.json', '266557.json', '266560.json', '266574.json', '266603.json', '266613.json', '266620.json', '266631.json', '266653.json', '266664.json', '266669.json', '266670.json', '266724.json', '266731.json', '266741.json', '266770.json', '266794.json', '266815.json', '266827.json', '266838.json', '266846.json', '266871.json', '266874.json', '266883.json', '266885.json', '266892.json', '266916.json', '266921.json', '266929.json', '266933.json', '266952.json', '266961.json', '266967.json', '266986.json', '266989.json', '267039.json', '267058.json', '267076.json', '267077.json', '267085.json', '267101.json', '267138.json', '267161.json', '267183.json', '267192.json', '267197.json', '267212.json', '267220.json', '267273.json', '267274.json', '267301.json', '267327.json', '267343.json', '267368.json', '267373.json', '267395.json', '267400.json', '267405.json', '267422.json', '267432.json', '267464.json', '267492.json', '267499.json', '267502.json', '267506.json', '267520.json', '267533.json', '267561.json', '267567.json', '267569.json', '267576.json', '267590.json', '267596.json', '267597.json', '267609.json', '267611.json', '267660.json', '267670.json', '267675.json', '267679.json', '2275026.json', '2275027.json', '2275028.json', '2275029.json', '2275030.json', '2275033.json', '2275034.json', '2275036.json', '2275037.json', '2275038.json', '2275040.json', '2275041.json', '2275042.json', '2275044.json', '2275045.json', '2275048.json', '2275049.json', '2275050.json', '2275051.json', '2275052.json', '2275054.json', '2275056.json', '2275057.json', '2275061.json', '2275062.json', '2275063.json', '2275065.json', '2275070.json', '2275072.json', '2275073.json', '2275074.json', '2275075.json', '2275077.json', '2275078.json', '2275079.json', '2275080.json', '2275082.json', '2275083.json', '2275084.json', '2275085.json', '2275086.json', '2275088.json', '2275089.json', '2275090.json', '2275091.json', '2275092.json', '2275093.json', '2275094.json', '2275096.json', '2275097.json', '2275098.json', '2275099.json', '2275102.json', '2275103.json', '2275104.json', '2275105.json', '2275106.json', '2275107.json', '2275108.json', '2275109.json', '2275110.json', '2275113.json', '2275116.json', '2275117.json', '2275120.json', '2275121.json', '2275122.json', '2275126.json', '2275127.json', '2275130.json', '2275131.json', '2275132.json', '2275133.json', '2275136.json', '2275137.json', '2275138.json', '2275139.json', '2275140.json', '2275142.json', '2275144.json', '2275146.json', '2275150.json', '2275151.json', '2275153.json', '2275154.json', '2275156.json', '2275157.json']\n"
          ],
          "name": "stdout"
        }
      ]
    },
    {
      "cell_type": "markdown",
      "metadata": {
        "id": "g66sjViyC227",
        "colab_type": "text"
      },
      "source": [
        ""
      ]
    },
    {
      "cell_type": "code",
      "metadata": {
        "id": "aWO_V1ooV6mF",
        "colab_type": "code",
        "outputId": "efeeeda1-9ffe-4fcb-e00b-8cc2994ee81b",
        "colab": {
          "base_uri": "https://localhost:8080/",
          "height": 32
        }
      },
      "source": [
        "ef=pd.DataFrame()\n",
        "ef"
      ],
      "execution_count": 0,
      "outputs": [
        {
          "output_type": "execute_result",
          "data": {
            "text/html": [
              "<div>\n",
              "<style scoped>\n",
              "    .dataframe tbody tr th:only-of-type {\n",
              "        vertical-align: middle;\n",
              "    }\n",
              "\n",
              "    .dataframe tbody tr th {\n",
              "        vertical-align: top;\n",
              "    }\n",
              "\n",
              "    .dataframe thead th {\n",
              "        text-align: right;\n",
              "    }\n",
              "</style>\n",
              "<table border=\"1\" class=\"dataframe\">\n",
              "  <thead>\n",
              "    <tr style=\"text-align: right;\">\n",
              "      <th></th>\n",
              "    </tr>\n",
              "  </thead>\n",
              "  <tbody>\n",
              "  </tbody>\n",
              "</table>\n",
              "</div>"
            ],
            "text/plain": [
              "Empty DataFrame\n",
              "Columns: []\n",
              "Index: []"
            ]
          },
          "metadata": {
            "tags": []
          },
          "execution_count": 8
        }
      ]
    },
    {
      "cell_type": "code",
      "metadata": {
        "id": "JoATxU2CU6ji",
        "colab_type": "code",
        "outputId": "170ee765-ebdf-4245-c92a-2d1f76a03d23",
        "colab": {
          "base_uri": "https://localhost:8080/",
          "height": 72
        }
      },
      "source": [
        "for i in json_files:\n",
        "  with open(path+i) as data_file:    \n",
        "    data = json.load(data_file)\n",
        "    df = json_normalize(data, sep = \"_\")\n",
        "    df=df[df.type_name==\"Shot\"]\n",
        "    frames = [ef, df]\n",
        "    ef = pd.concat(frames)"
      ],
      "execution_count": 0,
      "outputs": [
        {
          "output_type": "stream",
          "text": [
            "/usr/local/lib/python3.6/dist-packages/ipykernel_launcher.py:4: FutureWarning: pandas.io.json.json_normalize is deprecated, use pandas.json_normalize instead\n",
            "  after removing the cwd from sys.path.\n"
          ],
          "name": "stderr"
        }
      ]
    },
    {
      "cell_type": "code",
      "metadata": {
        "id": "HpN1rTwFWBsY",
        "colab_type": "code",
        "outputId": "4e44c448-f733-4507-b165-7df188ff2bd4",
        "colab": {
          "base_uri": "https://localhost:8080/",
          "height": 955
        }
      },
      "source": [
        "ef"
      ],
      "execution_count": 0,
      "outputs": [
        {
          "output_type": "execute_result",
          "data": {
            "text/html": [
              "<div>\n",
              "<style scoped>\n",
              "    .dataframe tbody tr th:only-of-type {\n",
              "        vertical-align: middle;\n",
              "    }\n",
              "\n",
              "    .dataframe tbody tr th {\n",
              "        vertical-align: top;\n",
              "    }\n",
              "\n",
              "    .dataframe thead th {\n",
              "        text-align: right;\n",
              "    }\n",
              "</style>\n",
              "<table border=\"1\" class=\"dataframe\">\n",
              "  <thead>\n",
              "    <tr style=\"text-align: right;\">\n",
              "      <th></th>\n",
              "      <th>id</th>\n",
              "      <th>index</th>\n",
              "      <th>period</th>\n",
              "      <th>timestamp</th>\n",
              "      <th>minute</th>\n",
              "      <th>second</th>\n",
              "      <th>possession</th>\n",
              "      <th>off_camera</th>\n",
              "      <th>duration</th>\n",
              "      <th>type_id</th>\n",
              "      <th>type_name</th>\n",
              "      <th>possession_team_id</th>\n",
              "      <th>possession_team_name</th>\n",
              "      <th>play_pattern_id</th>\n",
              "      <th>play_pattern_name</th>\n",
              "      <th>team_id</th>\n",
              "      <th>team_name</th>\n",
              "      <th>tactics_formation</th>\n",
              "      <th>tactics_lineup</th>\n",
              "      <th>related_events</th>\n",
              "      <th>location</th>\n",
              "      <th>player_id</th>\n",
              "      <th>player_name</th>\n",
              "      <th>position_id</th>\n",
              "      <th>position_name</th>\n",
              "      <th>pass_recipient_id</th>\n",
              "      <th>pass_recipient_name</th>\n",
              "      <th>pass_length</th>\n",
              "      <th>pass_angle</th>\n",
              "      <th>pass_height_id</th>\n",
              "      <th>pass_height_name</th>\n",
              "      <th>pass_end_location</th>\n",
              "      <th>pass_type_id</th>\n",
              "      <th>pass_type_name</th>\n",
              "      <th>pass_body_part_id</th>\n",
              "      <th>pass_body_part_name</th>\n",
              "      <th>under_pressure</th>\n",
              "      <th>pass_outcome_id</th>\n",
              "      <th>pass_outcome_name</th>\n",
              "      <th>ball_receipt_outcome_id</th>\n",
              "      <th>...</th>\n",
              "      <th>foul_committed_card_id</th>\n",
              "      <th>foul_committed_card_name</th>\n",
              "      <th>pass_technique_id</th>\n",
              "      <th>pass_technique_name</th>\n",
              "      <th>pass_miscommunication</th>\n",
              "      <th>foul_won_penalty</th>\n",
              "      <th>block_save_block</th>\n",
              "      <th>block_offensive</th>\n",
              "      <th>50_50_outcome_id</th>\n",
              "      <th>50_50_outcome_name</th>\n",
              "      <th>miscontrol_aerial_won</th>\n",
              "      <th>shot_redirect</th>\n",
              "      <th>foul_committed_penalty</th>\n",
              "      <th>out</th>\n",
              "      <th>clearance_left_foot</th>\n",
              "      <th>clearance_body_part_id</th>\n",
              "      <th>clearance_body_part_name</th>\n",
              "      <th>clearance_head</th>\n",
              "      <th>clearance_right_foot</th>\n",
              "      <th>pass_straight</th>\n",
              "      <th>pass_outswinging</th>\n",
              "      <th>pass_inswinging</th>\n",
              "      <th>goalkeeper_punched_out</th>\n",
              "      <th>goalkeeper_lost_out</th>\n",
              "      <th>half_start_late_video_start</th>\n",
              "      <th>clearance_other</th>\n",
              "      <th>pass_no_touch</th>\n",
              "      <th>shot_saved_off_target</th>\n",
              "      <th>goalkeeper_shot_saved_off_target</th>\n",
              "      <th>dribble_no_touch</th>\n",
              "      <th>shot_saved_to_post</th>\n",
              "      <th>goalkeeper_shot_saved_to_post</th>\n",
              "      <th>player_off_permanent</th>\n",
              "      <th>goalkeeper_lost_in_play</th>\n",
              "      <th>goalkeeper_success_out</th>\n",
              "      <th>goalkeeper_success_in_play</th>\n",
              "      <th>shot_kick_off</th>\n",
              "      <th>goalkeeper_penalty_saved_to_post</th>\n",
              "      <th>half_end_early_video_end</th>\n",
              "      <th>goalkeeper_saved_to_post</th>\n",
              "    </tr>\n",
              "  </thead>\n",
              "  <tbody>\n",
              "    <tr>\n",
              "      <th>33</th>\n",
              "      <td>61149bb7-bd43-4260-a0f9-7e058eaad3ce</td>\n",
              "      <td>34</td>\n",
              "      <td>1</td>\n",
              "      <td>00:00:47.620</td>\n",
              "      <td>0</td>\n",
              "      <td>47</td>\n",
              "      <td>4</td>\n",
              "      <td>False</td>\n",
              "      <td>0.560000</td>\n",
              "      <td>16</td>\n",
              "      <td>Shot</td>\n",
              "      <td>971</td>\n",
              "      <td>Chelsea LFC</td>\n",
              "      <td>1</td>\n",
              "      <td>Regular Play</td>\n",
              "      <td>971</td>\n",
              "      <td>Chelsea LFC</td>\n",
              "      <td>NaN</td>\n",
              "      <td>NaN</td>\n",
              "      <td>[542ffba6-f09e-467d-9109-d4df13f867cf, b652219...</td>\n",
              "      <td>[115.0, 25.0]</td>\n",
              "      <td>4641.0</td>\n",
              "      <td>Francesca Kirby</td>\n",
              "      <td>22.0</td>\n",
              "      <td>Right Center Forward</td>\n",
              "      <td>NaN</td>\n",
              "      <td>NaN</td>\n",
              "      <td>NaN</td>\n",
              "      <td>NaN</td>\n",
              "      <td>NaN</td>\n",
              "      <td>NaN</td>\n",
              "      <td>NaN</td>\n",
              "      <td>NaN</td>\n",
              "      <td>NaN</td>\n",
              "      <td>NaN</td>\n",
              "      <td>NaN</td>\n",
              "      <td>NaN</td>\n",
              "      <td>NaN</td>\n",
              "      <td>NaN</td>\n",
              "      <td>NaN</td>\n",
              "      <td>...</td>\n",
              "      <td>NaN</td>\n",
              "      <td>NaN</td>\n",
              "      <td>NaN</td>\n",
              "      <td>NaN</td>\n",
              "      <td>NaN</td>\n",
              "      <td>NaN</td>\n",
              "      <td>NaN</td>\n",
              "      <td>NaN</td>\n",
              "      <td>NaN</td>\n",
              "      <td>NaN</td>\n",
              "      <td>NaN</td>\n",
              "      <td>NaN</td>\n",
              "      <td>NaN</td>\n",
              "      <td>NaN</td>\n",
              "      <td>NaN</td>\n",
              "      <td>NaN</td>\n",
              "      <td>NaN</td>\n",
              "      <td>NaN</td>\n",
              "      <td>NaN</td>\n",
              "      <td>NaN</td>\n",
              "      <td>NaN</td>\n",
              "      <td>NaN</td>\n",
              "      <td>NaN</td>\n",
              "      <td>NaN</td>\n",
              "      <td>NaN</td>\n",
              "      <td>NaN</td>\n",
              "      <td>NaN</td>\n",
              "      <td>NaN</td>\n",
              "      <td>NaN</td>\n",
              "      <td>NaN</td>\n",
              "      <td>NaN</td>\n",
              "      <td>NaN</td>\n",
              "      <td>NaN</td>\n",
              "      <td>NaN</td>\n",
              "      <td>NaN</td>\n",
              "      <td>NaN</td>\n",
              "      <td>NaN</td>\n",
              "      <td>NaN</td>\n",
              "      <td>NaN</td>\n",
              "      <td>NaN</td>\n",
              "    </tr>\n",
              "    <tr>\n",
              "      <th>186</th>\n",
              "      <td>460b9863-46f1-41d0-925e-73d9d677b4d4</td>\n",
              "      <td>187</td>\n",
              "      <td>1</td>\n",
              "      <td>00:05:12.780</td>\n",
              "      <td>5</td>\n",
              "      <td>12</td>\n",
              "      <td>17</td>\n",
              "      <td>False</td>\n",
              "      <td>0.400000</td>\n",
              "      <td>16</td>\n",
              "      <td>Shot</td>\n",
              "      <td>971</td>\n",
              "      <td>Chelsea LFC</td>\n",
              "      <td>4</td>\n",
              "      <td>From Throw In</td>\n",
              "      <td>971</td>\n",
              "      <td>Chelsea LFC</td>\n",
              "      <td>NaN</td>\n",
              "      <td>NaN</td>\n",
              "      <td>[3f2b17f4-ae95-4c02-b30f-5766d78fdac4, 4bd584d...</td>\n",
              "      <td>[109.0, 51.0]</td>\n",
              "      <td>4641.0</td>\n",
              "      <td>Francesca Kirby</td>\n",
              "      <td>22.0</td>\n",
              "      <td>Right Center Forward</td>\n",
              "      <td>NaN</td>\n",
              "      <td>NaN</td>\n",
              "      <td>NaN</td>\n",
              "      <td>NaN</td>\n",
              "      <td>NaN</td>\n",
              "      <td>NaN</td>\n",
              "      <td>NaN</td>\n",
              "      <td>NaN</td>\n",
              "      <td>NaN</td>\n",
              "      <td>NaN</td>\n",
              "      <td>NaN</td>\n",
              "      <td>NaN</td>\n",
              "      <td>NaN</td>\n",
              "      <td>NaN</td>\n",
              "      <td>NaN</td>\n",
              "      <td>...</td>\n",
              "      <td>NaN</td>\n",
              "      <td>NaN</td>\n",
              "      <td>NaN</td>\n",
              "      <td>NaN</td>\n",
              "      <td>NaN</td>\n",
              "      <td>NaN</td>\n",
              "      <td>NaN</td>\n",
              "      <td>NaN</td>\n",
              "      <td>NaN</td>\n",
              "      <td>NaN</td>\n",
              "      <td>NaN</td>\n",
              "      <td>NaN</td>\n",
              "      <td>NaN</td>\n",
              "      <td>NaN</td>\n",
              "      <td>NaN</td>\n",
              "      <td>NaN</td>\n",
              "      <td>NaN</td>\n",
              "      <td>NaN</td>\n",
              "      <td>NaN</td>\n",
              "      <td>NaN</td>\n",
              "      <td>NaN</td>\n",
              "      <td>NaN</td>\n",
              "      <td>NaN</td>\n",
              "      <td>NaN</td>\n",
              "      <td>NaN</td>\n",
              "      <td>NaN</td>\n",
              "      <td>NaN</td>\n",
              "      <td>NaN</td>\n",
              "      <td>NaN</td>\n",
              "      <td>NaN</td>\n",
              "      <td>NaN</td>\n",
              "      <td>NaN</td>\n",
              "      <td>NaN</td>\n",
              "      <td>NaN</td>\n",
              "      <td>NaN</td>\n",
              "      <td>NaN</td>\n",
              "      <td>NaN</td>\n",
              "      <td>NaN</td>\n",
              "      <td>NaN</td>\n",
              "      <td>NaN</td>\n",
              "    </tr>\n",
              "    <tr>\n",
              "      <th>192</th>\n",
              "      <td>4904fe79-34c9-4a77-9b88-70ddf43d2f00</td>\n",
              "      <td>193</td>\n",
              "      <td>1</td>\n",
              "      <td>00:05:41.940</td>\n",
              "      <td>5</td>\n",
              "      <td>41</td>\n",
              "      <td>18</td>\n",
              "      <td>False</td>\n",
              "      <td>0.480000</td>\n",
              "      <td>16</td>\n",
              "      <td>Shot</td>\n",
              "      <td>971</td>\n",
              "      <td>Chelsea LFC</td>\n",
              "      <td>2</td>\n",
              "      <td>From Corner</td>\n",
              "      <td>971</td>\n",
              "      <td>Chelsea LFC</td>\n",
              "      <td>NaN</td>\n",
              "      <td>NaN</td>\n",
              "      <td>[51a7e445-c3c3-4533-8417-20c28d6f863b, d573c6f...</td>\n",
              "      <td>[99.0, 52.0]</td>\n",
              "      <td>4647.0</td>\n",
              "      <td>So-yun Ji</td>\n",
              "      <td>14.0</td>\n",
              "      <td>Center Midfield</td>\n",
              "      <td>NaN</td>\n",
              "      <td>NaN</td>\n",
              "      <td>NaN</td>\n",
              "      <td>NaN</td>\n",
              "      <td>NaN</td>\n",
              "      <td>NaN</td>\n",
              "      <td>NaN</td>\n",
              "      <td>NaN</td>\n",
              "      <td>NaN</td>\n",
              "      <td>NaN</td>\n",
              "      <td>NaN</td>\n",
              "      <td>NaN</td>\n",
              "      <td>NaN</td>\n",
              "      <td>NaN</td>\n",
              "      <td>NaN</td>\n",
              "      <td>...</td>\n",
              "      <td>NaN</td>\n",
              "      <td>NaN</td>\n",
              "      <td>NaN</td>\n",
              "      <td>NaN</td>\n",
              "      <td>NaN</td>\n",
              "      <td>NaN</td>\n",
              "      <td>NaN</td>\n",
              "      <td>NaN</td>\n",
              "      <td>NaN</td>\n",
              "      <td>NaN</td>\n",
              "      <td>NaN</td>\n",
              "      <td>NaN</td>\n",
              "      <td>NaN</td>\n",
              "      <td>NaN</td>\n",
              "      <td>NaN</td>\n",
              "      <td>NaN</td>\n",
              "      <td>NaN</td>\n",
              "      <td>NaN</td>\n",
              "      <td>NaN</td>\n",
              "      <td>NaN</td>\n",
              "      <td>NaN</td>\n",
              "      <td>NaN</td>\n",
              "      <td>NaN</td>\n",
              "      <td>NaN</td>\n",
              "      <td>NaN</td>\n",
              "      <td>NaN</td>\n",
              "      <td>NaN</td>\n",
              "      <td>NaN</td>\n",
              "      <td>NaN</td>\n",
              "      <td>NaN</td>\n",
              "      <td>NaN</td>\n",
              "      <td>NaN</td>\n",
              "      <td>NaN</td>\n",
              "      <td>NaN</td>\n",
              "      <td>NaN</td>\n",
              "      <td>NaN</td>\n",
              "      <td>NaN</td>\n",
              "      <td>NaN</td>\n",
              "      <td>NaN</td>\n",
              "      <td>NaN</td>\n",
              "    </tr>\n",
              "    <tr>\n",
              "      <th>196</th>\n",
              "      <td>367a07f8-060e-4f7a-833c-f80b12c0e751</td>\n",
              "      <td>197</td>\n",
              "      <td>1</td>\n",
              "      <td>00:05:43.900</td>\n",
              "      <td>5</td>\n",
              "      <td>43</td>\n",
              "      <td>18</td>\n",
              "      <td>False</td>\n",
              "      <td>0.160000</td>\n",
              "      <td>16</td>\n",
              "      <td>Shot</td>\n",
              "      <td>971</td>\n",
              "      <td>Chelsea LFC</td>\n",
              "      <td>2</td>\n",
              "      <td>From Corner</td>\n",
              "      <td>971</td>\n",
              "      <td>Chelsea LFC</td>\n",
              "      <td>NaN</td>\n",
              "      <td>NaN</td>\n",
              "      <td>[3ceffb6f-a466-4b9b-87ef-4513adaeb1c2, c2ab93c...</td>\n",
              "      <td>[107.0, 40.0]</td>\n",
              "      <td>4638.0</td>\n",
              "      <td>Drew Spence</td>\n",
              "      <td>15.0</td>\n",
              "      <td>Left Center Midfield</td>\n",
              "      <td>NaN</td>\n",
              "      <td>NaN</td>\n",
              "      <td>NaN</td>\n",
              "      <td>NaN</td>\n",
              "      <td>NaN</td>\n",
              "      <td>NaN</td>\n",
              "      <td>NaN</td>\n",
              "      <td>NaN</td>\n",
              "      <td>NaN</td>\n",
              "      <td>NaN</td>\n",
              "      <td>NaN</td>\n",
              "      <td>NaN</td>\n",
              "      <td>NaN</td>\n",
              "      <td>NaN</td>\n",
              "      <td>NaN</td>\n",
              "      <td>...</td>\n",
              "      <td>NaN</td>\n",
              "      <td>NaN</td>\n",
              "      <td>NaN</td>\n",
              "      <td>NaN</td>\n",
              "      <td>NaN</td>\n",
              "      <td>NaN</td>\n",
              "      <td>NaN</td>\n",
              "      <td>NaN</td>\n",
              "      <td>NaN</td>\n",
              "      <td>NaN</td>\n",
              "      <td>NaN</td>\n",
              "      <td>NaN</td>\n",
              "      <td>NaN</td>\n",
              "      <td>NaN</td>\n",
              "      <td>NaN</td>\n",
              "      <td>NaN</td>\n",
              "      <td>NaN</td>\n",
              "      <td>NaN</td>\n",
              "      <td>NaN</td>\n",
              "      <td>NaN</td>\n",
              "      <td>NaN</td>\n",
              "      <td>NaN</td>\n",
              "      <td>NaN</td>\n",
              "      <td>NaN</td>\n",
              "      <td>NaN</td>\n",
              "      <td>NaN</td>\n",
              "      <td>NaN</td>\n",
              "      <td>NaN</td>\n",
              "      <td>NaN</td>\n",
              "      <td>NaN</td>\n",
              "      <td>NaN</td>\n",
              "      <td>NaN</td>\n",
              "      <td>NaN</td>\n",
              "      <td>NaN</td>\n",
              "      <td>NaN</td>\n",
              "      <td>NaN</td>\n",
              "      <td>NaN</td>\n",
              "      <td>NaN</td>\n",
              "      <td>NaN</td>\n",
              "      <td>NaN</td>\n",
              "    </tr>\n",
              "    <tr>\n",
              "      <th>204</th>\n",
              "      <td>a905bf03-944d-4fdf-9313-798566db000d</td>\n",
              "      <td>205</td>\n",
              "      <td>1</td>\n",
              "      <td>00:05:46.380</td>\n",
              "      <td>5</td>\n",
              "      <td>46</td>\n",
              "      <td>18</td>\n",
              "      <td>False</td>\n",
              "      <td>1.480000</td>\n",
              "      <td>16</td>\n",
              "      <td>Shot</td>\n",
              "      <td>971</td>\n",
              "      <td>Chelsea LFC</td>\n",
              "      <td>2</td>\n",
              "      <td>From Corner</td>\n",
              "      <td>971</td>\n",
              "      <td>Chelsea LFC</td>\n",
              "      <td>NaN</td>\n",
              "      <td>NaN</td>\n",
              "      <td>[0dd4ef1c-7173-4cb7-b3bd-304b16a69177, 3e0fdbb...</td>\n",
              "      <td>[108.0, 32.0]</td>\n",
              "      <td>4642.0</td>\n",
              "      <td>Millie Bright</td>\n",
              "      <td>3.0</td>\n",
              "      <td>Right Center Back</td>\n",
              "      <td>NaN</td>\n",
              "      <td>NaN</td>\n",
              "      <td>NaN</td>\n",
              "      <td>NaN</td>\n",
              "      <td>NaN</td>\n",
              "      <td>NaN</td>\n",
              "      <td>NaN</td>\n",
              "      <td>NaN</td>\n",
              "      <td>NaN</td>\n",
              "      <td>NaN</td>\n",
              "      <td>NaN</td>\n",
              "      <td>True</td>\n",
              "      <td>NaN</td>\n",
              "      <td>NaN</td>\n",
              "      <td>NaN</td>\n",
              "      <td>...</td>\n",
              "      <td>NaN</td>\n",
              "      <td>NaN</td>\n",
              "      <td>NaN</td>\n",
              "      <td>NaN</td>\n",
              "      <td>NaN</td>\n",
              "      <td>NaN</td>\n",
              "      <td>NaN</td>\n",
              "      <td>NaN</td>\n",
              "      <td>NaN</td>\n",
              "      <td>NaN</td>\n",
              "      <td>NaN</td>\n",
              "      <td>NaN</td>\n",
              "      <td>NaN</td>\n",
              "      <td>NaN</td>\n",
              "      <td>NaN</td>\n",
              "      <td>NaN</td>\n",
              "      <td>NaN</td>\n",
              "      <td>NaN</td>\n",
              "      <td>NaN</td>\n",
              "      <td>NaN</td>\n",
              "      <td>NaN</td>\n",
              "      <td>NaN</td>\n",
              "      <td>NaN</td>\n",
              "      <td>NaN</td>\n",
              "      <td>NaN</td>\n",
              "      <td>NaN</td>\n",
              "      <td>NaN</td>\n",
              "      <td>NaN</td>\n",
              "      <td>NaN</td>\n",
              "      <td>NaN</td>\n",
              "      <td>NaN</td>\n",
              "      <td>NaN</td>\n",
              "      <td>NaN</td>\n",
              "      <td>NaN</td>\n",
              "      <td>NaN</td>\n",
              "      <td>NaN</td>\n",
              "      <td>NaN</td>\n",
              "      <td>NaN</td>\n",
              "      <td>NaN</td>\n",
              "      <td>NaN</td>\n",
              "    </tr>\n",
              "    <tr>\n",
              "      <th>...</th>\n",
              "      <td>...</td>\n",
              "      <td>...</td>\n",
              "      <td>...</td>\n",
              "      <td>...</td>\n",
              "      <td>...</td>\n",
              "      <td>...</td>\n",
              "      <td>...</td>\n",
              "      <td>...</td>\n",
              "      <td>...</td>\n",
              "      <td>...</td>\n",
              "      <td>...</td>\n",
              "      <td>...</td>\n",
              "      <td>...</td>\n",
              "      <td>...</td>\n",
              "      <td>...</td>\n",
              "      <td>...</td>\n",
              "      <td>...</td>\n",
              "      <td>...</td>\n",
              "      <td>...</td>\n",
              "      <td>...</td>\n",
              "      <td>...</td>\n",
              "      <td>...</td>\n",
              "      <td>...</td>\n",
              "      <td>...</td>\n",
              "      <td>...</td>\n",
              "      <td>...</td>\n",
              "      <td>...</td>\n",
              "      <td>...</td>\n",
              "      <td>...</td>\n",
              "      <td>...</td>\n",
              "      <td>...</td>\n",
              "      <td>...</td>\n",
              "      <td>...</td>\n",
              "      <td>...</td>\n",
              "      <td>...</td>\n",
              "      <td>...</td>\n",
              "      <td>...</td>\n",
              "      <td>...</td>\n",
              "      <td>...</td>\n",
              "      <td>...</td>\n",
              "      <td>...</td>\n",
              "      <td>...</td>\n",
              "      <td>...</td>\n",
              "      <td>...</td>\n",
              "      <td>...</td>\n",
              "      <td>...</td>\n",
              "      <td>...</td>\n",
              "      <td>...</td>\n",
              "      <td>...</td>\n",
              "      <td>...</td>\n",
              "      <td>...</td>\n",
              "      <td>...</td>\n",
              "      <td>...</td>\n",
              "      <td>...</td>\n",
              "      <td>...</td>\n",
              "      <td>...</td>\n",
              "      <td>...</td>\n",
              "      <td>...</td>\n",
              "      <td>...</td>\n",
              "      <td>...</td>\n",
              "      <td>...</td>\n",
              "      <td>...</td>\n",
              "      <td>...</td>\n",
              "      <td>...</td>\n",
              "      <td>...</td>\n",
              "      <td>...</td>\n",
              "      <td>...</td>\n",
              "      <td>...</td>\n",
              "      <td>...</td>\n",
              "      <td>...</td>\n",
              "      <td>...</td>\n",
              "      <td>...</td>\n",
              "      <td>...</td>\n",
              "      <td>...</td>\n",
              "      <td>...</td>\n",
              "      <td>...</td>\n",
              "      <td>...</td>\n",
              "      <td>...</td>\n",
              "      <td>...</td>\n",
              "      <td>...</td>\n",
              "      <td>...</td>\n",
              "    </tr>\n",
              "    <tr>\n",
              "      <th>2195</th>\n",
              "      <td>bb8fe49f-b9db-453a-9219-7c7e288aa153</td>\n",
              "      <td>2196</td>\n",
              "      <td>2</td>\n",
              "      <td>00:31:03.375</td>\n",
              "      <td>76</td>\n",
              "      <td>3</td>\n",
              "      <td>159</td>\n",
              "      <td>NaN</td>\n",
              "      <td>1.467282</td>\n",
              "      <td>16</td>\n",
              "      <td>Shot</td>\n",
              "      <td>974</td>\n",
              "      <td>Reading WFC</td>\n",
              "      <td>3</td>\n",
              "      <td>From Free Kick</td>\n",
              "      <td>974</td>\n",
              "      <td>Reading WFC</td>\n",
              "      <td>NaN</td>\n",
              "      <td>NaN</td>\n",
              "      <td>[28e46fe5-b1b3-4cec-9e24-0476741ca8a9]</td>\n",
              "      <td>[100.3, 59.5]</td>\n",
              "      <td>10251.0</td>\n",
              "      <td>Fara Williams</td>\n",
              "      <td>19.0</td>\n",
              "      <td>Center Attacking Midfield</td>\n",
              "      <td>NaN</td>\n",
              "      <td>NaN</td>\n",
              "      <td>NaN</td>\n",
              "      <td>NaN</td>\n",
              "      <td>NaN</td>\n",
              "      <td>NaN</td>\n",
              "      <td>NaN</td>\n",
              "      <td>NaN</td>\n",
              "      <td>NaN</td>\n",
              "      <td>NaN</td>\n",
              "      <td>NaN</td>\n",
              "      <td>NaN</td>\n",
              "      <td>NaN</td>\n",
              "      <td>NaN</td>\n",
              "      <td>NaN</td>\n",
              "      <td>...</td>\n",
              "      <td>NaN</td>\n",
              "      <td>NaN</td>\n",
              "      <td>NaN</td>\n",
              "      <td>NaN</td>\n",
              "      <td>NaN</td>\n",
              "      <td>NaN</td>\n",
              "      <td>NaN</td>\n",
              "      <td>NaN</td>\n",
              "      <td>NaN</td>\n",
              "      <td>NaN</td>\n",
              "      <td>NaN</td>\n",
              "      <td>NaN</td>\n",
              "      <td>NaN</td>\n",
              "      <td>NaN</td>\n",
              "      <td>NaN</td>\n",
              "      <td>NaN</td>\n",
              "      <td>NaN</td>\n",
              "      <td>NaN</td>\n",
              "      <td>NaN</td>\n",
              "      <td>NaN</td>\n",
              "      <td>NaN</td>\n",
              "      <td>NaN</td>\n",
              "      <td>NaN</td>\n",
              "      <td>NaN</td>\n",
              "      <td>NaN</td>\n",
              "      <td>NaN</td>\n",
              "      <td>NaN</td>\n",
              "      <td>NaN</td>\n",
              "      <td>NaN</td>\n",
              "      <td>NaN</td>\n",
              "      <td>NaN</td>\n",
              "      <td>NaN</td>\n",
              "      <td>NaN</td>\n",
              "      <td>NaN</td>\n",
              "      <td>NaN</td>\n",
              "      <td>NaN</td>\n",
              "      <td>NaN</td>\n",
              "      <td>NaN</td>\n",
              "      <td>NaN</td>\n",
              "      <td>NaN</td>\n",
              "    </tr>\n",
              "    <tr>\n",
              "      <th>2222</th>\n",
              "      <td>d9ff05e0-4e60-4c33-a633-fe177fa9ca57</td>\n",
              "      <td>2223</td>\n",
              "      <td>2</td>\n",
              "      <td>00:32:12.332</td>\n",
              "      <td>77</td>\n",
              "      <td>12</td>\n",
              "      <td>161</td>\n",
              "      <td>NaN</td>\n",
              "      <td>0.143608</td>\n",
              "      <td>16</td>\n",
              "      <td>Shot</td>\n",
              "      <td>974</td>\n",
              "      <td>Reading WFC</td>\n",
              "      <td>1</td>\n",
              "      <td>Regular Play</td>\n",
              "      <td>974</td>\n",
              "      <td>Reading WFC</td>\n",
              "      <td>NaN</td>\n",
              "      <td>NaN</td>\n",
              "      <td>[85a696b0-e3d2-49a3-9e08-0509242da888, e6115e0...</td>\n",
              "      <td>[102.2, 55.4]</td>\n",
              "      <td>26570.0</td>\n",
              "      <td>Amalie Vevle Eikeland</td>\n",
              "      <td>21.0</td>\n",
              "      <td>Left Wing</td>\n",
              "      <td>NaN</td>\n",
              "      <td>NaN</td>\n",
              "      <td>NaN</td>\n",
              "      <td>NaN</td>\n",
              "      <td>NaN</td>\n",
              "      <td>NaN</td>\n",
              "      <td>NaN</td>\n",
              "      <td>NaN</td>\n",
              "      <td>NaN</td>\n",
              "      <td>NaN</td>\n",
              "      <td>NaN</td>\n",
              "      <td>NaN</td>\n",
              "      <td>NaN</td>\n",
              "      <td>NaN</td>\n",
              "      <td>NaN</td>\n",
              "      <td>...</td>\n",
              "      <td>NaN</td>\n",
              "      <td>NaN</td>\n",
              "      <td>NaN</td>\n",
              "      <td>NaN</td>\n",
              "      <td>NaN</td>\n",
              "      <td>NaN</td>\n",
              "      <td>NaN</td>\n",
              "      <td>NaN</td>\n",
              "      <td>NaN</td>\n",
              "      <td>NaN</td>\n",
              "      <td>NaN</td>\n",
              "      <td>NaN</td>\n",
              "      <td>NaN</td>\n",
              "      <td>NaN</td>\n",
              "      <td>NaN</td>\n",
              "      <td>NaN</td>\n",
              "      <td>NaN</td>\n",
              "      <td>NaN</td>\n",
              "      <td>NaN</td>\n",
              "      <td>NaN</td>\n",
              "      <td>NaN</td>\n",
              "      <td>NaN</td>\n",
              "      <td>NaN</td>\n",
              "      <td>NaN</td>\n",
              "      <td>NaN</td>\n",
              "      <td>NaN</td>\n",
              "      <td>NaN</td>\n",
              "      <td>NaN</td>\n",
              "      <td>NaN</td>\n",
              "      <td>NaN</td>\n",
              "      <td>NaN</td>\n",
              "      <td>NaN</td>\n",
              "      <td>NaN</td>\n",
              "      <td>NaN</td>\n",
              "      <td>NaN</td>\n",
              "      <td>NaN</td>\n",
              "      <td>NaN</td>\n",
              "      <td>NaN</td>\n",
              "      <td>NaN</td>\n",
              "      <td>NaN</td>\n",
              "    </tr>\n",
              "    <tr>\n",
              "      <th>2329</th>\n",
              "      <td>06e61393-9c6e-4ff9-b2ec-130ecfef4181</td>\n",
              "      <td>2330</td>\n",
              "      <td>2</td>\n",
              "      <td>00:35:18.357</td>\n",
              "      <td>80</td>\n",
              "      <td>18</td>\n",
              "      <td>167</td>\n",
              "      <td>NaN</td>\n",
              "      <td>0.345873</td>\n",
              "      <td>16</td>\n",
              "      <td>Shot</td>\n",
              "      <td>974</td>\n",
              "      <td>Reading WFC</td>\n",
              "      <td>2</td>\n",
              "      <td>From Corner</td>\n",
              "      <td>974</td>\n",
              "      <td>Reading WFC</td>\n",
              "      <td>NaN</td>\n",
              "      <td>NaN</td>\n",
              "      <td>[80fa6a19-8efd-46d7-ace7-ba1f6c2e4aa8]</td>\n",
              "      <td>[116.3, 50.1]</td>\n",
              "      <td>15720.0</td>\n",
              "      <td>Sophie Howard</td>\n",
              "      <td>5.0</td>\n",
              "      <td>Left Center Back</td>\n",
              "      <td>NaN</td>\n",
              "      <td>NaN</td>\n",
              "      <td>NaN</td>\n",
              "      <td>NaN</td>\n",
              "      <td>NaN</td>\n",
              "      <td>NaN</td>\n",
              "      <td>NaN</td>\n",
              "      <td>NaN</td>\n",
              "      <td>NaN</td>\n",
              "      <td>NaN</td>\n",
              "      <td>NaN</td>\n",
              "      <td>NaN</td>\n",
              "      <td>NaN</td>\n",
              "      <td>NaN</td>\n",
              "      <td>NaN</td>\n",
              "      <td>...</td>\n",
              "      <td>NaN</td>\n",
              "      <td>NaN</td>\n",
              "      <td>NaN</td>\n",
              "      <td>NaN</td>\n",
              "      <td>NaN</td>\n",
              "      <td>NaN</td>\n",
              "      <td>NaN</td>\n",
              "      <td>NaN</td>\n",
              "      <td>NaN</td>\n",
              "      <td>NaN</td>\n",
              "      <td>NaN</td>\n",
              "      <td>NaN</td>\n",
              "      <td>NaN</td>\n",
              "      <td>NaN</td>\n",
              "      <td>NaN</td>\n",
              "      <td>NaN</td>\n",
              "      <td>NaN</td>\n",
              "      <td>NaN</td>\n",
              "      <td>NaN</td>\n",
              "      <td>NaN</td>\n",
              "      <td>NaN</td>\n",
              "      <td>NaN</td>\n",
              "      <td>NaN</td>\n",
              "      <td>NaN</td>\n",
              "      <td>NaN</td>\n",
              "      <td>NaN</td>\n",
              "      <td>NaN</td>\n",
              "      <td>NaN</td>\n",
              "      <td>NaN</td>\n",
              "      <td>NaN</td>\n",
              "      <td>NaN</td>\n",
              "      <td>NaN</td>\n",
              "      <td>NaN</td>\n",
              "      <td>NaN</td>\n",
              "      <td>NaN</td>\n",
              "      <td>NaN</td>\n",
              "      <td>NaN</td>\n",
              "      <td>NaN</td>\n",
              "      <td>NaN</td>\n",
              "      <td>NaN</td>\n",
              "    </tr>\n",
              "    <tr>\n",
              "      <th>2465</th>\n",
              "      <td>0d9e57c8-9710-4b03-a48b-fc3ce1696eeb</td>\n",
              "      <td>2466</td>\n",
              "      <td>2</td>\n",
              "      <td>00:39:59.769</td>\n",
              "      <td>84</td>\n",
              "      <td>59</td>\n",
              "      <td>177</td>\n",
              "      <td>NaN</td>\n",
              "      <td>0.785760</td>\n",
              "      <td>16</td>\n",
              "      <td>Shot</td>\n",
              "      <td>1475</td>\n",
              "      <td>Manchester United</td>\n",
              "      <td>6</td>\n",
              "      <td>From Counter</td>\n",
              "      <td>1475</td>\n",
              "      <td>Manchester United</td>\n",
              "      <td>NaN</td>\n",
              "      <td>NaN</td>\n",
              "      <td>[c2aa94c5-0383-4e32-b4ee-9ed9488ae50d]</td>\n",
              "      <td>[107.1, 40.6]</td>\n",
              "      <td>31535.0</td>\n",
              "      <td>Jessica Sigsworth</td>\n",
              "      <td>17.0</td>\n",
              "      <td>Right Wing</td>\n",
              "      <td>NaN</td>\n",
              "      <td>NaN</td>\n",
              "      <td>NaN</td>\n",
              "      <td>NaN</td>\n",
              "      <td>NaN</td>\n",
              "      <td>NaN</td>\n",
              "      <td>NaN</td>\n",
              "      <td>NaN</td>\n",
              "      <td>NaN</td>\n",
              "      <td>NaN</td>\n",
              "      <td>NaN</td>\n",
              "      <td>NaN</td>\n",
              "      <td>NaN</td>\n",
              "      <td>NaN</td>\n",
              "      <td>NaN</td>\n",
              "      <td>...</td>\n",
              "      <td>NaN</td>\n",
              "      <td>NaN</td>\n",
              "      <td>NaN</td>\n",
              "      <td>NaN</td>\n",
              "      <td>NaN</td>\n",
              "      <td>NaN</td>\n",
              "      <td>NaN</td>\n",
              "      <td>NaN</td>\n",
              "      <td>NaN</td>\n",
              "      <td>NaN</td>\n",
              "      <td>NaN</td>\n",
              "      <td>NaN</td>\n",
              "      <td>NaN</td>\n",
              "      <td>NaN</td>\n",
              "      <td>NaN</td>\n",
              "      <td>NaN</td>\n",
              "      <td>NaN</td>\n",
              "      <td>NaN</td>\n",
              "      <td>NaN</td>\n",
              "      <td>NaN</td>\n",
              "      <td>NaN</td>\n",
              "      <td>NaN</td>\n",
              "      <td>NaN</td>\n",
              "      <td>NaN</td>\n",
              "      <td>NaN</td>\n",
              "      <td>NaN</td>\n",
              "      <td>NaN</td>\n",
              "      <td>NaN</td>\n",
              "      <td>NaN</td>\n",
              "      <td>NaN</td>\n",
              "      <td>NaN</td>\n",
              "      <td>NaN</td>\n",
              "      <td>NaN</td>\n",
              "      <td>NaN</td>\n",
              "      <td>NaN</td>\n",
              "      <td>NaN</td>\n",
              "      <td>NaN</td>\n",
              "      <td>NaN</td>\n",
              "      <td>NaN</td>\n",
              "      <td>NaN</td>\n",
              "    </tr>\n",
              "    <tr>\n",
              "      <th>2521</th>\n",
              "      <td>9e8d4415-c8c8-448b-b9fc-fd5db9d5f0fc</td>\n",
              "      <td>2522</td>\n",
              "      <td>2</td>\n",
              "      <td>00:42:05.796</td>\n",
              "      <td>87</td>\n",
              "      <td>5</td>\n",
              "      <td>180</td>\n",
              "      <td>NaN</td>\n",
              "      <td>0.801622</td>\n",
              "      <td>16</td>\n",
              "      <td>Shot</td>\n",
              "      <td>974</td>\n",
              "      <td>Reading WFC</td>\n",
              "      <td>4</td>\n",
              "      <td>From Throw In</td>\n",
              "      <td>974</td>\n",
              "      <td>Reading WFC</td>\n",
              "      <td>NaN</td>\n",
              "      <td>NaN</td>\n",
              "      <td>[25f8c9ce-ee39-4838-8853-ff2050de657d, 8076697...</td>\n",
              "      <td>[114.0, 36.3]</td>\n",
              "      <td>18149.0</td>\n",
              "      <td>Remi Allen</td>\n",
              "      <td>11.0</td>\n",
              "      <td>Left Defensive Midfield</td>\n",
              "      <td>NaN</td>\n",
              "      <td>NaN</td>\n",
              "      <td>NaN</td>\n",
              "      <td>NaN</td>\n",
              "      <td>NaN</td>\n",
              "      <td>NaN</td>\n",
              "      <td>NaN</td>\n",
              "      <td>NaN</td>\n",
              "      <td>NaN</td>\n",
              "      <td>NaN</td>\n",
              "      <td>NaN</td>\n",
              "      <td>True</td>\n",
              "      <td>NaN</td>\n",
              "      <td>NaN</td>\n",
              "      <td>NaN</td>\n",
              "      <td>...</td>\n",
              "      <td>NaN</td>\n",
              "      <td>NaN</td>\n",
              "      <td>NaN</td>\n",
              "      <td>NaN</td>\n",
              "      <td>NaN</td>\n",
              "      <td>NaN</td>\n",
              "      <td>NaN</td>\n",
              "      <td>NaN</td>\n",
              "      <td>NaN</td>\n",
              "      <td>NaN</td>\n",
              "      <td>NaN</td>\n",
              "      <td>NaN</td>\n",
              "      <td>NaN</td>\n",
              "      <td>NaN</td>\n",
              "      <td>NaN</td>\n",
              "      <td>NaN</td>\n",
              "      <td>NaN</td>\n",
              "      <td>NaN</td>\n",
              "      <td>NaN</td>\n",
              "      <td>NaN</td>\n",
              "      <td>NaN</td>\n",
              "      <td>NaN</td>\n",
              "      <td>NaN</td>\n",
              "      <td>NaN</td>\n",
              "      <td>NaN</td>\n",
              "      <td>NaN</td>\n",
              "      <td>NaN</td>\n",
              "      <td>NaN</td>\n",
              "      <td>NaN</td>\n",
              "      <td>NaN</td>\n",
              "      <td>NaN</td>\n",
              "      <td>NaN</td>\n",
              "      <td>NaN</td>\n",
              "      <td>NaN</td>\n",
              "      <td>NaN</td>\n",
              "      <td>NaN</td>\n",
              "      <td>NaN</td>\n",
              "      <td>NaN</td>\n",
              "      <td>NaN</td>\n",
              "      <td>NaN</td>\n",
              "    </tr>\n",
              "  </tbody>\n",
              "</table>\n",
              "<p>20643 rows × 149 columns</p>\n",
              "</div>"
            ],
            "text/plain": [
              "                                        id  ...  goalkeeper_saved_to_post\n",
              "33    61149bb7-bd43-4260-a0f9-7e058eaad3ce  ...                       NaN\n",
              "186   460b9863-46f1-41d0-925e-73d9d677b4d4  ...                       NaN\n",
              "192   4904fe79-34c9-4a77-9b88-70ddf43d2f00  ...                       NaN\n",
              "196   367a07f8-060e-4f7a-833c-f80b12c0e751  ...                       NaN\n",
              "204   a905bf03-944d-4fdf-9313-798566db000d  ...                       NaN\n",
              "...                                    ...  ...                       ...\n",
              "2195  bb8fe49f-b9db-453a-9219-7c7e288aa153  ...                       NaN\n",
              "2222  d9ff05e0-4e60-4c33-a633-fe177fa9ca57  ...                       NaN\n",
              "2329  06e61393-9c6e-4ff9-b2ec-130ecfef4181  ...                       NaN\n",
              "2465  0d9e57c8-9710-4b03-a48b-fc3ce1696eeb  ...                       NaN\n",
              "2521  9e8d4415-c8c8-448b-b9fc-fd5db9d5f0fc  ...                       NaN\n",
              "\n",
              "[20643 rows x 149 columns]"
            ]
          },
          "metadata": {
            "tags": []
          },
          "execution_count": 14
        }
      ]
    },
    {
      "cell_type": "markdown",
      "metadata": {
        "id": "cQQYZ5ovC82c",
        "colab_type": "text"
      },
      "source": [
        "## Pickle shots only data for easy later invocation"
      ]
    },
    {
      "cell_type": "code",
      "metadata": {
        "id": "g7Wy3U9Aai8q",
        "colab_type": "code",
        "colab": {}
      },
      "source": [
        "ef.to_pickle(path+\"shot_data\")"
      ],
      "execution_count": 0,
      "outputs": []
    },
    {
      "cell_type": "code",
      "metadata": {
        "id": "Pwh4aWsWbCjz",
        "colab_type": "code",
        "outputId": "fa15ad19-939d-4506-a1f6-c9c1b7c71dd8",
        "colab": {
          "base_uri": "https://localhost:8080/",
          "height": 1000
        }
      },
      "source": [
        "for i in ef.columns:\n",
        "  print(i)"
      ],
      "execution_count": 0,
      "outputs": [
        {
          "output_type": "stream",
          "text": [
            "id\n",
            "index\n",
            "period\n",
            "timestamp\n",
            "minute\n",
            "second\n",
            "possession\n",
            "off_camera\n",
            "duration\n",
            "type_id\n",
            "type_name\n",
            "possession_team_id\n",
            "possession_team_name\n",
            "play_pattern_id\n",
            "play_pattern_name\n",
            "team_id\n",
            "team_name\n",
            "tactics_formation\n",
            "tactics_lineup\n",
            "related_events\n",
            "location\n",
            "player_id\n",
            "player_name\n",
            "position_id\n",
            "position_name\n",
            "pass_recipient_id\n",
            "pass_recipient_name\n",
            "pass_length\n",
            "pass_angle\n",
            "pass_height_id\n",
            "pass_height_name\n",
            "pass_end_location\n",
            "pass_type_id\n",
            "pass_type_name\n",
            "pass_body_part_id\n",
            "pass_body_part_name\n",
            "under_pressure\n",
            "pass_outcome_id\n",
            "pass_outcome_name\n",
            "ball_receipt_outcome_id\n",
            "ball_receipt_outcome_name\n",
            "pass_assisted_shot_id\n",
            "pass_shot_assist\n",
            "pass_through_ball\n",
            "dribble_outcome_id\n",
            "dribble_outcome_name\n",
            "shot_statsbomb_xg\n",
            "shot_end_location\n",
            "shot_key_pass_id\n",
            "shot_follows_dribble\n",
            "shot_outcome_id\n",
            "shot_outcome_name\n",
            "shot_type_id\n",
            "shot_type_name\n",
            "shot_technique_id\n",
            "shot_technique_name\n",
            "shot_body_part_id\n",
            "shot_body_part_name\n",
            "shot_freeze_frame\n",
            "goalkeeper_type_id\n",
            "goalkeeper_type_name\n",
            "goalkeeper_position_id\n",
            "goalkeeper_position_name\n",
            "pass_cross\n",
            "duel_outcome_id\n",
            "duel_outcome_name\n",
            "duel_type_id\n",
            "duel_type_name\n",
            "goalkeeper_outcome_id\n",
            "goalkeeper_outcome_name\n",
            "ball_recovery_recovery_failure\n",
            "pass_switch\n",
            "shot_first_time\n",
            "pass_goal_assist\n",
            "dribble_nutmeg\n",
            "interception_outcome_id\n",
            "interception_outcome_name\n",
            "pass_aerial_won\n",
            "dribble_overrun\n",
            "pass_backheel\n",
            "goalkeeper_technique_id\n",
            "goalkeeper_technique_name\n",
            "goalkeeper_body_part_id\n",
            "goalkeeper_body_part_name\n",
            "pass_deflected\n",
            "block_deflection\n",
            "substitution_outcome_id\n",
            "substitution_outcome_name\n",
            "substitution_replacement_id\n",
            "substitution_replacement_name\n",
            "shot_one_on_one\n",
            "foul_committed_advantage\n",
            "foul_won_advantage\n",
            "injury_stoppage_in_chain\n",
            "foul_committed_offensive\n",
            "foul_won_defensive\n",
            "bad_behaviour_card_id\n",
            "bad_behaviour_card_name\n",
            "ball_recovery_offensive\n",
            "carry_end_location\n",
            "counterpress\n",
            "shot_deflected\n",
            "goalkeeper_end_location\n",
            "shot_aerial_won\n",
            "foul_committed_type_id\n",
            "foul_committed_type_name\n",
            "pass_cut_back\n",
            "clearance_aerial_won\n",
            "shot_open_goal\n",
            "foul_committed_card_id\n",
            "foul_committed_card_name\n",
            "pass_technique_id\n",
            "pass_technique_name\n",
            "pass_miscommunication\n",
            "foul_won_penalty\n",
            "block_save_block\n",
            "block_offensive\n",
            "50_50_outcome_id\n",
            "50_50_outcome_name\n",
            "miscontrol_aerial_won\n",
            "shot_redirect\n",
            "foul_committed_penalty\n",
            "out\n",
            "clearance_left_foot\n",
            "clearance_body_part_id\n",
            "clearance_body_part_name\n",
            "clearance_head\n",
            "clearance_right_foot\n",
            "pass_straight\n",
            "pass_outswinging\n",
            "pass_inswinging\n",
            "goalkeeper_punched_out\n",
            "goalkeeper_lost_out\n",
            "half_start_late_video_start\n",
            "clearance_other\n",
            "pass_no_touch\n",
            "shot_saved_off_target\n",
            "goalkeeper_shot_saved_off_target\n",
            "dribble_no_touch\n",
            "shot_saved_to_post\n",
            "goalkeeper_shot_saved_to_post\n",
            "player_off_permanent\n",
            "goalkeeper_lost_in_play\n",
            "goalkeeper_success_out\n",
            "goalkeeper_success_in_play\n",
            "shot_kick_off\n",
            "goalkeeper_penalty_saved_to_post\n",
            "half_end_early_video_end\n",
            "goalkeeper_saved_to_post\n"
          ],
          "name": "stdout"
        }
      ]
    },
    {
      "cell_type": "code",
      "metadata": {
        "id": "2iuzOZH8egO2",
        "colab_type": "code",
        "colab": {}
      },
      "source": [
        "import pandas as pd\n",
        "ef=pd.read_pickle(path+\"shot_data\")"
      ],
      "execution_count": 0,
      "outputs": []
    },
    {
      "cell_type": "markdown",
      "metadata": {
        "id": "U1yxGb4ADEKw",
        "colab_type": "text"
      },
      "source": [
        "## Draw half-pitch for plotting"
      ]
    },
    {
      "cell_type": "code",
      "metadata": {
        "id": "0k3S9uxp9nWN",
        "colab_type": "code",
        "colab": {}
      },
      "source": [
        "def draw_half_pitch(ax):\n",
        "    # focus on only half of the pitch\n",
        "    #Pitch Outline & Centre Line\n",
        "    Pitch = Rectangle([40,0], width = 60, height = 80, fill = False)\n",
        "    #Right Penalty Area\n",
        "    RightPenalty = Rectangle([85.4,22.3], width = 14.6, height = 35.3, fill = False)\n",
        "\n",
        "    #Right 6-yard Box\n",
        "    RightSixYard = Rectangle([95.1,32], width = 4.9, height = 16, fill = False)\n",
        "\n",
        "\n",
        "    #Prepare Circles\n",
        "    centreCircle = Arc((40,40),width = 8.1, height = 8.1, angle=0,theta1=270,theta2=90,color=\"black\")\n",
        "    centreSpot = plt.Circle((40,40),0.71,color=\"black\")\n",
        "    rightPenSpot = plt.Circle((90.3,40),0.71,color=\"black\")\n",
        "    rightArc = Arc((90.3,40),height=16.2,width=16.2,angle=0,theta1=130,theta2=230,color=\"black\")\n",
        "    \n",
        "    element = [Pitch, RightPenalty, RightSixYard, centreCircle, centreSpot, rightPenSpot, rightArc]\n",
        "    for i in element:\n",
        "        ax.add_patch(i)"
      ],
      "execution_count": 0,
      "outputs": []
    },
    {
      "cell_type": "markdown",
      "metadata": {
        "id": "BSOZL4TPDJIo",
        "colab_type": "text"
      },
      "source": [
        "## Plot shot freezeframe"
      ]
    },
    {
      "cell_type": "code",
      "metadata": {
        "id": "de2zT0DCk_oH",
        "colab_type": "code",
        "colab": {}
      },
      "source": [
        "def plot_freeze_frame(frame,shot):\n",
        "  loc_same=[]\n",
        "  loc_opp=[]\n",
        "  for i in frame:\n",
        "    if i['teammate']==True:\n",
        "      loc_same.append(i['location'])\n",
        "    else:\n",
        "      loc_opp.append(i['location'])\n",
        "  fig=plt.figure()\n",
        "  fig.set_size_inches(5, 5)\n",
        "  ax=fig.add_subplot(1,1,1)\n",
        "  draw_half_pitch(ax)\n",
        "  plt.axis('off')\n",
        "  x_coord_same = [i[0]-20 for i in loc_same]\n",
        "  y_coord_same = [i[1] for i in loc_same]\n",
        "  x_coord_opp = [i[0]-20 for i in loc_opp]\n",
        "  y_coord_opp = [i[1] for i in loc_opp]\n",
        "  ax.scatter(x_coord_same, y_coord_same, c = 'blue', label = 'same team players')\n",
        "  ax.scatter(x_coord_opp, y_coord_opp, c = 'green', label = 'oppenent team players')\n",
        "  ax.scatter(shot[0]-20, shot[1], c = 'red', label = 'shooter')"
      ],
      "execution_count": 0,
      "outputs": []
    },
    {
      "cell_type": "code",
      "metadata": {
        "id": "SSpyolvYjNn-",
        "colab_type": "code",
        "outputId": "33e3d8fe-42e2-4328-8fdf-0f5b634c1959",
        "colab": {
          "base_uri": "https://localhost:8080/",
          "height": 303
        }
      },
      "source": [
        "shot=ef.location.iloc[4]\n",
        "frame=ef.shot_freeze_frame.iloc[4]\n",
        "plot_freeze_frame(frame,shot)"
      ],
      "execution_count": 0,
      "outputs": [
        {
          "output_type": "display_data",
          "data": {
            "image/png": "[encoded data removed]",
            "text/plain": [
              "<Figure size 360x360 with 1 Axes>"
            ]
          },
          "metadata": {
            "tags": [],
            "needs_background": "light"
          }
        }
      ]
    },
    {
      "cell_type": "markdown",
      "metadata": {
        "id": "CbRNXcrADYyK",
        "colab_type": "text"
      },
      "source": [
        "## Feature Engineering"
      ]
    },
    {
      "cell_type": "code",
      "metadata": {
        "id": "ozvHBZ6-fX8j",
        "colab_type": "code",
        "outputId": "8fe1e8ae-7cdd-4554-91ab-6ea43c55f3f7",
        "colab": {
          "base_uri": "https://localhost:8080/",
          "height": 225
        }
      },
      "source": [
        "ef[ef.shot_type_name==\"Free Kick\"][\"shot_outcome_name\"]"
      ],
      "execution_count": 0,
      "outputs": [
        {
          "output_type": "execute_result",
          "data": {
            "text/plain": [
              "925       Off T\n",
              "987     Blocked\n",
              "2466      Saved\n",
              "2159      Off T\n",
              "2271      Off T\n",
              "         ...   \n",
              "2265       Goal\n",
              "1919      Off T\n",
              "2296    Blocked\n",
              "2038    Blocked\n",
              "2195      Off T\n",
              "Name: shot_outcome_name, Length: 1171, dtype: object"
            ]
          },
          "metadata": {
            "tags": []
          },
          "execution_count": 5
        }
      ]
    },
    {
      "cell_type": "code",
      "metadata": {
        "id": "HEtiKCdIBbrE",
        "colab_type": "code",
        "colab": {}
      },
      "source": [
        "ef = ef.dropna(axis=0, subset=['shot_statsbomb_xg'])"
      ],
      "execution_count": 0,
      "outputs": []
    },
    {
      "cell_type": "code",
      "metadata": {
        "id": "UsMKAzMG2G2G",
        "colab_type": "code",
        "colab": {}
      },
      "source": [
        "df=ef[[\"location\",\"shot_statsbomb_xg\",\"shot_end_location\",\"shot_type_name\",\"shot_technique_name\",\"shot_body_part_name\",\"shot_first_time\",\"shot_one_on_one\",\"shot_open_goal\",\"shot_outcome_name\"]]"
      ],
      "execution_count": 0,
      "outputs": []
    },
    {
      "cell_type": "code",
      "metadata": {
        "id": "Ghsdd0Uf2Zm2",
        "colab_type": "code",
        "outputId": "daa61cb9-1b90-4e3f-81e8-8c2091a7988c",
        "colab": {
          "base_uri": "https://localhost:8080/",
          "height": 309
        }
      },
      "source": [
        "df.head()"
      ],
      "execution_count": 0,
      "outputs": [
        {
          "output_type": "execute_result",
          "data": {
            "text/html": [
              "<div>\n",
              "<style scoped>\n",
              "    .dataframe tbody tr th:only-of-type {\n",
              "        vertical-align: middle;\n",
              "    }\n",
              "\n",
              "    .dataframe tbody tr th {\n",
              "        vertical-align: top;\n",
              "    }\n",
              "\n",
              "    .dataframe thead th {\n",
              "        text-align: right;\n",
              "    }\n",
              "</style>\n",
              "<table border=\"1\" class=\"dataframe\">\n",
              "  <thead>\n",
              "    <tr style=\"text-align: right;\">\n",
              "      <th></th>\n",
              "      <th>location</th>\n",
              "      <th>shot_statsbomb_xg</th>\n",
              "      <th>shot_end_location</th>\n",
              "      <th>shot_type_name</th>\n",
              "      <th>shot_technique_name</th>\n",
              "      <th>shot_body_part_name</th>\n",
              "      <th>shot_first_time</th>\n",
              "      <th>shot_one_on_one</th>\n",
              "      <th>shot_open_goal</th>\n",
              "      <th>shot_outcome_name</th>\n",
              "    </tr>\n",
              "  </thead>\n",
              "  <tbody>\n",
              "    <tr>\n",
              "      <th>33</th>\n",
              "      <td>[115.0, 25.0]</td>\n",
              "      <td>0.123623</td>\n",
              "      <td>[117.0, 34.0, 0.0]</td>\n",
              "      <td>Open Play</td>\n",
              "      <td>Normal</td>\n",
              "      <td>Right Foot</td>\n",
              "      <td>NaN</td>\n",
              "      <td>NaN</td>\n",
              "      <td>NaN</td>\n",
              "      <td>Blocked</td>\n",
              "    </tr>\n",
              "    <tr>\n",
              "      <th>186</th>\n",
              "      <td>[109.0, 51.0]</td>\n",
              "      <td>0.059487</td>\n",
              "      <td>[112.0, 44.0, 0.0]</td>\n",
              "      <td>Open Play</td>\n",
              "      <td>Normal</td>\n",
              "      <td>Left Foot</td>\n",
              "      <td>NaN</td>\n",
              "      <td>NaN</td>\n",
              "      <td>NaN</td>\n",
              "      <td>Blocked</td>\n",
              "    </tr>\n",
              "    <tr>\n",
              "      <th>192</th>\n",
              "      <td>[99.0, 52.0]</td>\n",
              "      <td>0.024417</td>\n",
              "      <td>[108.0, 51.0, 0.0]</td>\n",
              "      <td>Open Play</td>\n",
              "      <td>Half Volley</td>\n",
              "      <td>Right Foot</td>\n",
              "      <td>True</td>\n",
              "      <td>NaN</td>\n",
              "      <td>NaN</td>\n",
              "      <td>Blocked</td>\n",
              "    </tr>\n",
              "    <tr>\n",
              "      <th>196</th>\n",
              "      <td>[107.0, 40.0]</td>\n",
              "      <td>0.113025</td>\n",
              "      <td>[112.0, 37.0, 0.0]</td>\n",
              "      <td>Open Play</td>\n",
              "      <td>Normal</td>\n",
              "      <td>Right Foot</td>\n",
              "      <td>NaN</td>\n",
              "      <td>NaN</td>\n",
              "      <td>NaN</td>\n",
              "      <td>Blocked</td>\n",
              "    </tr>\n",
              "    <tr>\n",
              "      <th>204</th>\n",
              "      <td>[108.0, 32.0]</td>\n",
              "      <td>0.081086</td>\n",
              "      <td>[120.0, 42.9, 1.9]</td>\n",
              "      <td>Open Play</td>\n",
              "      <td>Normal</td>\n",
              "      <td>Left Foot</td>\n",
              "      <td>True</td>\n",
              "      <td>NaN</td>\n",
              "      <td>NaN</td>\n",
              "      <td>Goal</td>\n",
              "    </tr>\n",
              "  </tbody>\n",
              "</table>\n",
              "</div>"
            ],
            "text/plain": [
              "          location  shot_statsbomb_xg  ... shot_open_goal shot_outcome_name\n",
              "33   [115.0, 25.0]           0.123623  ...            NaN           Blocked\n",
              "186  [109.0, 51.0]           0.059487  ...            NaN           Blocked\n",
              "192   [99.0, 52.0]           0.024417  ...            NaN           Blocked\n",
              "196  [107.0, 40.0]           0.113025  ...            NaN           Blocked\n",
              "204  [108.0, 32.0]           0.081086  ...            NaN              Goal\n",
              "\n",
              "[5 rows x 10 columns]"
            ]
          },
          "metadata": {
            "tags": []
          },
          "execution_count": 627
        }
      ]
    },
    {
      "cell_type": "code",
      "metadata": {
        "id": "niceyhlG56MH",
        "colab_type": "code",
        "outputId": "0a0f7f3e-4c32-439a-bfae-a80e1bd81634",
        "colab": {
          "base_uri": "https://localhost:8080/",
          "height": 208
        }
      },
      "source": [
        "df.isnull().sum()"
      ],
      "execution_count": 0,
      "outputs": [
        {
          "output_type": "execute_result",
          "data": {
            "text/plain": [
              "location                   0\n",
              "shot_statsbomb_xg          1\n",
              "shot_end_location          0\n",
              "shot_type_name             0\n",
              "shot_technique_name        0\n",
              "shot_body_part_name        0\n",
              "shot_first_time        15141\n",
              "shot_one_on_one        19357\n",
              "shot_open_goal         20400\n",
              "shot_outcome_name          0\n",
              "dtype: int64"
            ]
          },
          "metadata": {
            "tags": []
          },
          "execution_count": 628
        }
      ]
    },
    {
      "cell_type": "code",
      "metadata": {
        "id": "MrrddrqU71Ov",
        "colab_type": "code",
        "outputId": "a5dee103-127e-453c-87ba-106faf93a2bc",
        "colab": {
          "base_uri": "https://localhost:8080/",
          "height": 35
        }
      },
      "source": [
        "len(df)"
      ],
      "execution_count": 0,
      "outputs": [
        {
          "output_type": "execute_result",
          "data": {
            "text/plain": [
              "20643"
            ]
          },
          "metadata": {
            "tags": []
          },
          "execution_count": 629
        }
      ]
    },
    {
      "cell_type": "code",
      "metadata": {
        "id": "8WMfhjXX7vhm",
        "colab_type": "code",
        "colab": {}
      },
      "source": [
        "df = df.dropna(axis=0, subset=['shot_statsbomb_xg'])"
      ],
      "execution_count": 0,
      "outputs": []
    },
    {
      "cell_type": "code",
      "metadata": {
        "id": "OkXjKSM175E5",
        "colab_type": "code",
        "colab": {}
      },
      "source": [
        "df=df.fillna(\"False\")"
      ],
      "execution_count": 0,
      "outputs": []
    },
    {
      "cell_type": "code",
      "metadata": {
        "id": "PQ-Gd3ba2jI0",
        "colab_type": "code",
        "colab": {}
      },
      "source": [
        "df[['location_x','location_y']] = pd.DataFrame(df.location.tolist(), index= df.index)\n"
      ],
      "execution_count": 0,
      "outputs": []
    },
    {
      "cell_type": "code",
      "metadata": {
        "id": "QEXTuWZt_Kic",
        "colab_type": "code",
        "outputId": "3d70e961-5f74-49c6-e452-0cbbe6c13416",
        "colab": {
          "base_uri": "https://localhost:8080/",
          "height": 35
        }
      },
      "source": [
        "len(df)"
      ],
      "execution_count": 0,
      "outputs": [
        {
          "output_type": "execute_result",
          "data": {
            "text/plain": [
              "20642"
            ]
          },
          "metadata": {
            "tags": []
          },
          "execution_count": 633
        }
      ]
    },
    {
      "cell_type": "code",
      "metadata": {
        "id": "xSWVdwA8_U5L",
        "colab_type": "code",
        "colab": {}
      },
      "source": [
        "for index, row in df.iterrows():\n",
        "  if(len(row['shot_end_location']))==2:\n",
        "    row['shot_end_location'].append(0.0)\n",
        "    "
      ],
      "execution_count": 0,
      "outputs": []
    },
    {
      "cell_type": "code",
      "metadata": {
        "id": "U2v_l5gr_syx",
        "colab_type": "code",
        "colab": {}
      },
      "source": [
        "df[['end_location_x','end_location_y','end_location_z']] = pd.DataFrame(df.shot_end_location.tolist(), index= df.index)"
      ],
      "execution_count": 0,
      "outputs": []
    },
    {
      "cell_type": "markdown",
      "metadata": {
        "id": "W6E94J3IDdJa",
        "colab_type": "text"
      },
      "source": [
        "## Calculate distance between the goals"
      ]
    },
    {
      "cell_type": "code",
      "metadata": {
        "id": "SN-LpYhb3hEA",
        "colab_type": "code",
        "colab": {}
      },
      "source": [
        "df['distance'] = np.sqrt((df.location_x - df.end_location_x) ** 2 + (df.location_y - df.end_location_y) ** 2)"
      ],
      "execution_count": 0,
      "outputs": []
    },
    {
      "cell_type": "code",
      "metadata": {
        "id": "LVvWc9dTBpQq",
        "colab_type": "code",
        "colab": {}
      },
      "source": [
        "xg_values=df.shot_statsbomb_xg\n",
        "df=df.drop(['shot_end_location', 'location','shot_statsbomb_xg'], axis = 1) "
      ],
      "execution_count": 0,
      "outputs": []
    },
    {
      "cell_type": "code",
      "metadata": {
        "id": "gFX45CsvKwkr",
        "colab_type": "code",
        "outputId": "03ca66f8-936b-4ffd-c837-ea23e6b71854",
        "colab": {
          "base_uri": "https://localhost:8080/",
          "height": 222
        }
      },
      "source": [
        "df.head()"
      ],
      "execution_count": 0,
      "outputs": [
        {
          "output_type": "execute_result",
          "data": {
            "text/html": [
              "<div>\n",
              "<style scoped>\n",
              "    .dataframe tbody tr th:only-of-type {\n",
              "        vertical-align: middle;\n",
              "    }\n",
              "\n",
              "    .dataframe tbody tr th {\n",
              "        vertical-align: top;\n",
              "    }\n",
              "\n",
              "    .dataframe thead th {\n",
              "        text-align: right;\n",
              "    }\n",
              "</style>\n",
              "<table border=\"1\" class=\"dataframe\">\n",
              "  <thead>\n",
              "    <tr style=\"text-align: right;\">\n",
              "      <th></th>\n",
              "      <th>shot_type_name</th>\n",
              "      <th>shot_technique_name</th>\n",
              "      <th>shot_body_part_name</th>\n",
              "      <th>shot_first_time</th>\n",
              "      <th>shot_one_on_one</th>\n",
              "      <th>shot_open_goal</th>\n",
              "      <th>shot_outcome_name</th>\n",
              "      <th>location_x</th>\n",
              "      <th>location_y</th>\n",
              "      <th>end_location_x</th>\n",
              "      <th>end_location_y</th>\n",
              "      <th>end_location_z</th>\n",
              "      <th>distance</th>\n",
              "    </tr>\n",
              "  </thead>\n",
              "  <tbody>\n",
              "    <tr>\n",
              "      <th>33</th>\n",
              "      <td>Open Play</td>\n",
              "      <td>Normal</td>\n",
              "      <td>Right Foot</td>\n",
              "      <td>False</td>\n",
              "      <td>False</td>\n",
              "      <td>False</td>\n",
              "      <td>Blocked</td>\n",
              "      <td>115.0</td>\n",
              "      <td>25.0</td>\n",
              "      <td>117.0</td>\n",
              "      <td>34.0</td>\n",
              "      <td>0.0</td>\n",
              "      <td>9.219544</td>\n",
              "    </tr>\n",
              "    <tr>\n",
              "      <th>186</th>\n",
              "      <td>Open Play</td>\n",
              "      <td>Normal</td>\n",
              "      <td>Left Foot</td>\n",
              "      <td>False</td>\n",
              "      <td>False</td>\n",
              "      <td>False</td>\n",
              "      <td>Blocked</td>\n",
              "      <td>109.0</td>\n",
              "      <td>51.0</td>\n",
              "      <td>112.0</td>\n",
              "      <td>44.0</td>\n",
              "      <td>0.0</td>\n",
              "      <td>7.615773</td>\n",
              "    </tr>\n",
              "    <tr>\n",
              "      <th>192</th>\n",
              "      <td>Open Play</td>\n",
              "      <td>Half Volley</td>\n",
              "      <td>Right Foot</td>\n",
              "      <td>True</td>\n",
              "      <td>False</td>\n",
              "      <td>False</td>\n",
              "      <td>Blocked</td>\n",
              "      <td>99.0</td>\n",
              "      <td>52.0</td>\n",
              "      <td>108.0</td>\n",
              "      <td>51.0</td>\n",
              "      <td>0.0</td>\n",
              "      <td>9.055385</td>\n",
              "    </tr>\n",
              "    <tr>\n",
              "      <th>196</th>\n",
              "      <td>Open Play</td>\n",
              "      <td>Normal</td>\n",
              "      <td>Right Foot</td>\n",
              "      <td>False</td>\n",
              "      <td>False</td>\n",
              "      <td>False</td>\n",
              "      <td>Blocked</td>\n",
              "      <td>107.0</td>\n",
              "      <td>40.0</td>\n",
              "      <td>112.0</td>\n",
              "      <td>37.0</td>\n",
              "      <td>0.0</td>\n",
              "      <td>5.830952</td>\n",
              "    </tr>\n",
              "    <tr>\n",
              "      <th>204</th>\n",
              "      <td>Open Play</td>\n",
              "      <td>Normal</td>\n",
              "      <td>Left Foot</td>\n",
              "      <td>True</td>\n",
              "      <td>False</td>\n",
              "      <td>False</td>\n",
              "      <td>Goal</td>\n",
              "      <td>108.0</td>\n",
              "      <td>32.0</td>\n",
              "      <td>120.0</td>\n",
              "      <td>42.9</td>\n",
              "      <td>1.9</td>\n",
              "      <td>16.211416</td>\n",
              "    </tr>\n",
              "  </tbody>\n",
              "</table>\n",
              "</div>"
            ],
            "text/plain": [
              "    shot_type_name shot_technique_name  ... end_location_z   distance\n",
              "33       Open Play              Normal  ...            0.0   9.219544\n",
              "186      Open Play              Normal  ...            0.0   7.615773\n",
              "192      Open Play         Half Volley  ...            0.0   9.055385\n",
              "196      Open Play              Normal  ...            0.0   5.830952\n",
              "204      Open Play              Normal  ...            1.9  16.211416\n",
              "\n",
              "[5 rows x 13 columns]"
            ]
          },
          "metadata": {
            "tags": []
          },
          "execution_count": 638
        }
      ]
    },
    {
      "cell_type": "code",
      "metadata": {
        "id": "amE9EEwwN0p0",
        "colab_type": "code",
        "colab": {}
      },
      "source": [
        "outcome = [1 if i == \"Goal\" else 0 for i in df[\"shot_outcome_name\"]]\n",
        "df['shot_outcome_name']=outcome\n",
        "#y_coord_goal = [location[1] for i, location in enumerate(shot_data[\"location\"]) if shot_data.iloc[i]['shot_outcome_name'] == \"Goal\"]"
      ],
      "execution_count": 0,
      "outputs": []
    },
    {
      "cell_type": "code",
      "metadata": {
        "id": "X6n_ge4DR64D",
        "colab_type": "code",
        "outputId": "96537cc5-8a8d-42e3-eac1-3c3ed1525032",
        "colab": {
          "base_uri": "https://localhost:8080/",
          "height": 104
        }
      },
      "source": [
        "df.columns"
      ],
      "execution_count": 0,
      "outputs": [
        {
          "output_type": "execute_result",
          "data": {
            "text/plain": [
              "Index(['shot_type_name', 'shot_technique_name', 'shot_body_part_name',\n",
              "       'shot_first_time', 'shot_one_on_one', 'shot_open_goal',\n",
              "       'shot_outcome_name', 'location_x', 'location_y', 'end_location_x',\n",
              "       'end_location_y', 'end_location_z', 'distance'],\n",
              "      dtype='object')"
            ]
          },
          "metadata": {
            "tags": []
          },
          "execution_count": 640
        }
      ]
    },
    {
      "cell_type": "code",
      "metadata": {
        "id": "gJDDCVVL0wF-",
        "colab_type": "code",
        "colab": {}
      },
      "source": [
        ""
      ],
      "execution_count": 0,
      "outputs": []
    },
    {
      "cell_type": "code",
      "metadata": {
        "id": "iY5Nk6YcR4SO",
        "colab_type": "code",
        "colab": {}
      },
      "source": [
        "hf=df[['location_x', 'location_y','distance',\n",
        "       'end_location_x', 'end_location_y', 'end_location_z','shot_outcome_name']]"
      ],
      "execution_count": 0,
      "outputs": []
    },
    {
      "cell_type": "code",
      "metadata": {
        "id": "Sibfj_9N22yy",
        "colab_type": "code",
        "outputId": "9e1986c3-818a-4e7a-f753-549dd0a2420b",
        "colab": {
          "base_uri": "https://localhost:8080/",
          "height": 202
        }
      },
      "source": [
        "hf.head()"
      ],
      "execution_count": 0,
      "outputs": [
        {
          "output_type": "execute_result",
          "data": {
            "text/html": [
              "<div>\n",
              "<style scoped>\n",
              "    .dataframe tbody tr th:only-of-type {\n",
              "        vertical-align: middle;\n",
              "    }\n",
              "\n",
              "    .dataframe tbody tr th {\n",
              "        vertical-align: top;\n",
              "    }\n",
              "\n",
              "    .dataframe thead th {\n",
              "        text-align: right;\n",
              "    }\n",
              "</style>\n",
              "<table border=\"1\" class=\"dataframe\">\n",
              "  <thead>\n",
              "    <tr style=\"text-align: right;\">\n",
              "      <th></th>\n",
              "      <th>location_x</th>\n",
              "      <th>location_y</th>\n",
              "      <th>distance</th>\n",
              "      <th>end_location_x</th>\n",
              "      <th>end_location_y</th>\n",
              "      <th>end_location_z</th>\n",
              "      <th>shot_outcome_name</th>\n",
              "    </tr>\n",
              "  </thead>\n",
              "  <tbody>\n",
              "    <tr>\n",
              "      <th>33</th>\n",
              "      <td>115.0</td>\n",
              "      <td>25.0</td>\n",
              "      <td>9.219544</td>\n",
              "      <td>117.0</td>\n",
              "      <td>34.0</td>\n",
              "      <td>0.0</td>\n",
              "      <td>0</td>\n",
              "    </tr>\n",
              "    <tr>\n",
              "      <th>186</th>\n",
              "      <td>109.0</td>\n",
              "      <td>51.0</td>\n",
              "      <td>7.615773</td>\n",
              "      <td>112.0</td>\n",
              "      <td>44.0</td>\n",
              "      <td>0.0</td>\n",
              "      <td>0</td>\n",
              "    </tr>\n",
              "    <tr>\n",
              "      <th>192</th>\n",
              "      <td>99.0</td>\n",
              "      <td>52.0</td>\n",
              "      <td>9.055385</td>\n",
              "      <td>108.0</td>\n",
              "      <td>51.0</td>\n",
              "      <td>0.0</td>\n",
              "      <td>0</td>\n",
              "    </tr>\n",
              "    <tr>\n",
              "      <th>196</th>\n",
              "      <td>107.0</td>\n",
              "      <td>40.0</td>\n",
              "      <td>5.830952</td>\n",
              "      <td>112.0</td>\n",
              "      <td>37.0</td>\n",
              "      <td>0.0</td>\n",
              "      <td>0</td>\n",
              "    </tr>\n",
              "    <tr>\n",
              "      <th>204</th>\n",
              "      <td>108.0</td>\n",
              "      <td>32.0</td>\n",
              "      <td>16.211416</td>\n",
              "      <td>120.0</td>\n",
              "      <td>42.9</td>\n",
              "      <td>1.9</td>\n",
              "      <td>1</td>\n",
              "    </tr>\n",
              "  </tbody>\n",
              "</table>\n",
              "</div>"
            ],
            "text/plain": [
              "     location_x  location_y  ...  end_location_z  shot_outcome_name\n",
              "33        115.0        25.0  ...             0.0                  0\n",
              "186       109.0        51.0  ...             0.0                  0\n",
              "192        99.0        52.0  ...             0.0                  0\n",
              "196       107.0        40.0  ...             0.0                  0\n",
              "204       108.0        32.0  ...             1.9                  1\n",
              "\n",
              "[5 rows x 7 columns]"
            ]
          },
          "metadata": {
            "tags": []
          },
          "execution_count": 642
        }
      ]
    },
    {
      "cell_type": "markdown",
      "metadata": {
        "id": "BKtK3jV7DiJQ",
        "colab_type": "text"
      },
      "source": [
        "## One hot encodng of categorical features"
      ]
    },
    {
      "cell_type": "code",
      "metadata": {
        "id": "l6z2j2ZLSFit",
        "colab_type": "code",
        "colab": {}
      },
      "source": [
        "df = pd.get_dummies(df[['shot_type_name', 'shot_technique_name', 'shot_body_part_name',\n",
        "       'shot_first_time', 'shot_one_on_one', 'shot_open_goal']])"
      ],
      "execution_count": 0,
      "outputs": []
    },
    {
      "cell_type": "code",
      "metadata": {
        "id": "tnTtIqwnSPwq",
        "colab_type": "code",
        "outputId": "8828eada-7cfa-45e4-a568-37f6734b05aa",
        "colab": {
          "base_uri": "https://localhost:8080/",
          "height": 239
        }
      },
      "source": [
        "df.head()"
      ],
      "execution_count": 0,
      "outputs": [
        {
          "output_type": "execute_result",
          "data": {
            "text/html": [
              "<div>\n",
              "<style scoped>\n",
              "    .dataframe tbody tr th:only-of-type {\n",
              "        vertical-align: middle;\n",
              "    }\n",
              "\n",
              "    .dataframe tbody tr th {\n",
              "        vertical-align: top;\n",
              "    }\n",
              "\n",
              "    .dataframe thead th {\n",
              "        text-align: right;\n",
              "    }\n",
              "</style>\n",
              "<table border=\"1\" class=\"dataframe\">\n",
              "  <thead>\n",
              "    <tr style=\"text-align: right;\">\n",
              "      <th></th>\n",
              "      <th>shot_type_name_Corner</th>\n",
              "      <th>shot_type_name_Free Kick</th>\n",
              "      <th>shot_type_name_Kick Off</th>\n",
              "      <th>shot_type_name_Open Play</th>\n",
              "      <th>shot_type_name_Penalty</th>\n",
              "      <th>shot_technique_name_Backheel</th>\n",
              "      <th>shot_technique_name_Diving Header</th>\n",
              "      <th>shot_technique_name_Half Volley</th>\n",
              "      <th>shot_technique_name_Lob</th>\n",
              "      <th>shot_technique_name_Normal</th>\n",
              "      <th>shot_technique_name_Overhead Kick</th>\n",
              "      <th>shot_technique_name_Volley</th>\n",
              "      <th>shot_body_part_name_Head</th>\n",
              "      <th>shot_body_part_name_Left Foot</th>\n",
              "      <th>shot_body_part_name_Other</th>\n",
              "      <th>shot_body_part_name_Right Foot</th>\n",
              "      <th>shot_first_time_True</th>\n",
              "      <th>shot_first_time_False</th>\n",
              "      <th>shot_one_on_one_True</th>\n",
              "      <th>shot_one_on_one_False</th>\n",
              "      <th>shot_open_goal_True</th>\n",
              "      <th>shot_open_goal_False</th>\n",
              "    </tr>\n",
              "  </thead>\n",
              "  <tbody>\n",
              "    <tr>\n",
              "      <th>33</th>\n",
              "      <td>0</td>\n",
              "      <td>0</td>\n",
              "      <td>0</td>\n",
              "      <td>1</td>\n",
              "      <td>0</td>\n",
              "      <td>0</td>\n",
              "      <td>0</td>\n",
              "      <td>0</td>\n",
              "      <td>0</td>\n",
              "      <td>1</td>\n",
              "      <td>0</td>\n",
              "      <td>0</td>\n",
              "      <td>0</td>\n",
              "      <td>0</td>\n",
              "      <td>0</td>\n",
              "      <td>1</td>\n",
              "      <td>0</td>\n",
              "      <td>1</td>\n",
              "      <td>0</td>\n",
              "      <td>1</td>\n",
              "      <td>0</td>\n",
              "      <td>1</td>\n",
              "    </tr>\n",
              "    <tr>\n",
              "      <th>186</th>\n",
              "      <td>0</td>\n",
              "      <td>0</td>\n",
              "      <td>0</td>\n",
              "      <td>1</td>\n",
              "      <td>0</td>\n",
              "      <td>0</td>\n",
              "      <td>0</td>\n",
              "      <td>0</td>\n",
              "      <td>0</td>\n",
              "      <td>1</td>\n",
              "      <td>0</td>\n",
              "      <td>0</td>\n",
              "      <td>0</td>\n",
              "      <td>1</td>\n",
              "      <td>0</td>\n",
              "      <td>0</td>\n",
              "      <td>0</td>\n",
              "      <td>1</td>\n",
              "      <td>0</td>\n",
              "      <td>1</td>\n",
              "      <td>0</td>\n",
              "      <td>1</td>\n",
              "    </tr>\n",
              "    <tr>\n",
              "      <th>192</th>\n",
              "      <td>0</td>\n",
              "      <td>0</td>\n",
              "      <td>0</td>\n",
              "      <td>1</td>\n",
              "      <td>0</td>\n",
              "      <td>0</td>\n",
              "      <td>0</td>\n",
              "      <td>1</td>\n",
              "      <td>0</td>\n",
              "      <td>0</td>\n",
              "      <td>0</td>\n",
              "      <td>0</td>\n",
              "      <td>0</td>\n",
              "      <td>0</td>\n",
              "      <td>0</td>\n",
              "      <td>1</td>\n",
              "      <td>1</td>\n",
              "      <td>0</td>\n",
              "      <td>0</td>\n",
              "      <td>1</td>\n",
              "      <td>0</td>\n",
              "      <td>1</td>\n",
              "    </tr>\n",
              "    <tr>\n",
              "      <th>196</th>\n",
              "      <td>0</td>\n",
              "      <td>0</td>\n",
              "      <td>0</td>\n",
              "      <td>1</td>\n",
              "      <td>0</td>\n",
              "      <td>0</td>\n",
              "      <td>0</td>\n",
              "      <td>0</td>\n",
              "      <td>0</td>\n",
              "      <td>1</td>\n",
              "      <td>0</td>\n",
              "      <td>0</td>\n",
              "      <td>0</td>\n",
              "      <td>0</td>\n",
              "      <td>0</td>\n",
              "      <td>1</td>\n",
              "      <td>0</td>\n",
              "      <td>1</td>\n",
              "      <td>0</td>\n",
              "      <td>1</td>\n",
              "      <td>0</td>\n",
              "      <td>1</td>\n",
              "    </tr>\n",
              "    <tr>\n",
              "      <th>204</th>\n",
              "      <td>0</td>\n",
              "      <td>0</td>\n",
              "      <td>0</td>\n",
              "      <td>1</td>\n",
              "      <td>0</td>\n",
              "      <td>0</td>\n",
              "      <td>0</td>\n",
              "      <td>0</td>\n",
              "      <td>0</td>\n",
              "      <td>1</td>\n",
              "      <td>0</td>\n",
              "      <td>0</td>\n",
              "      <td>0</td>\n",
              "      <td>1</td>\n",
              "      <td>0</td>\n",
              "      <td>0</td>\n",
              "      <td>1</td>\n",
              "      <td>0</td>\n",
              "      <td>0</td>\n",
              "      <td>1</td>\n",
              "      <td>0</td>\n",
              "      <td>1</td>\n",
              "    </tr>\n",
              "  </tbody>\n",
              "</table>\n",
              "</div>"
            ],
            "text/plain": [
              "     shot_type_name_Corner  ...  shot_open_goal_False\n",
              "33                       0  ...                     1\n",
              "186                      0  ...                     1\n",
              "192                      0  ...                     1\n",
              "196                      0  ...                     1\n",
              "204                      0  ...                     1\n",
              "\n",
              "[5 rows x 22 columns]"
            ]
          },
          "metadata": {
            "tags": []
          },
          "execution_count": 644
        }
      ]
    },
    {
      "cell_type": "code",
      "metadata": {
        "id": "jVpufPnKSRA5",
        "colab_type": "code",
        "colab": {}
      },
      "source": [
        "df=pd.concat([df, hf], axis=1)"
      ],
      "execution_count": 0,
      "outputs": []
    },
    {
      "cell_type": "code",
      "metadata": {
        "id": "fpDWUmnnSfHL",
        "colab_type": "code",
        "outputId": "ff3fe384-975e-4d55-c340-1ca51487b3d1",
        "colab": {
          "base_uri": "https://localhost:8080/",
          "height": 537
        }
      },
      "source": [
        "df.isnull().sum()"
      ],
      "execution_count": 0,
      "outputs": [
        {
          "output_type": "execute_result",
          "data": {
            "text/plain": [
              "shot_type_name_Corner                0\n",
              "shot_type_name_Free Kick             0\n",
              "shot_type_name_Kick Off              0\n",
              "shot_type_name_Open Play             0\n",
              "shot_type_name_Penalty               0\n",
              "shot_technique_name_Backheel         0\n",
              "shot_technique_name_Diving Header    0\n",
              "shot_technique_name_Half Volley      0\n",
              "shot_technique_name_Lob              0\n",
              "shot_technique_name_Normal           0\n",
              "shot_technique_name_Overhead Kick    0\n",
              "shot_technique_name_Volley           0\n",
              "shot_body_part_name_Head             0\n",
              "shot_body_part_name_Left Foot        0\n",
              "shot_body_part_name_Other            0\n",
              "shot_body_part_name_Right Foot       0\n",
              "shot_first_time_True                 0\n",
              "shot_first_time_False                0\n",
              "shot_one_on_one_True                 0\n",
              "shot_one_on_one_False                0\n",
              "shot_open_goal_True                  0\n",
              "shot_open_goal_False                 0\n",
              "location_x                           0\n",
              "location_y                           0\n",
              "distance                             0\n",
              "end_location_x                       0\n",
              "end_location_y                       0\n",
              "end_location_z                       0\n",
              "shot_outcome_name                    0\n",
              "dtype: int64"
            ]
          },
          "metadata": {
            "tags": []
          },
          "execution_count": 646
        }
      ]
    },
    {
      "cell_type": "code",
      "metadata": {
        "id": "7nCfy52fSlOw",
        "colab_type": "code",
        "outputId": "635adf10-cdfb-4cd8-dca2-86e27e19540a",
        "colab": {
          "base_uri": "https://localhost:8080/",
          "height": 239
        }
      },
      "source": [
        "df.head()"
      ],
      "execution_count": 0,
      "outputs": [
        {
          "output_type": "execute_result",
          "data": {
            "text/html": [
              "<div>\n",
              "<style scoped>\n",
              "    .dataframe tbody tr th:only-of-type {\n",
              "        vertical-align: middle;\n",
              "    }\n",
              "\n",
              "    .dataframe tbody tr th {\n",
              "        vertical-align: top;\n",
              "    }\n",
              "\n",
              "    .dataframe thead th {\n",
              "        text-align: right;\n",
              "    }\n",
              "</style>\n",
              "<table border=\"1\" class=\"dataframe\">\n",
              "  <thead>\n",
              "    <tr style=\"text-align: right;\">\n",
              "      <th></th>\n",
              "      <th>shot_type_name_Corner</th>\n",
              "      <th>shot_type_name_Free Kick</th>\n",
              "      <th>shot_type_name_Kick Off</th>\n",
              "      <th>shot_type_name_Open Play</th>\n",
              "      <th>shot_type_name_Penalty</th>\n",
              "      <th>shot_technique_name_Backheel</th>\n",
              "      <th>shot_technique_name_Diving Header</th>\n",
              "      <th>shot_technique_name_Half Volley</th>\n",
              "      <th>shot_technique_name_Lob</th>\n",
              "      <th>shot_technique_name_Normal</th>\n",
              "      <th>shot_technique_name_Overhead Kick</th>\n",
              "      <th>shot_technique_name_Volley</th>\n",
              "      <th>shot_body_part_name_Head</th>\n",
              "      <th>shot_body_part_name_Left Foot</th>\n",
              "      <th>shot_body_part_name_Other</th>\n",
              "      <th>shot_body_part_name_Right Foot</th>\n",
              "      <th>shot_first_time_True</th>\n",
              "      <th>shot_first_time_False</th>\n",
              "      <th>shot_one_on_one_True</th>\n",
              "      <th>shot_one_on_one_False</th>\n",
              "      <th>shot_open_goal_True</th>\n",
              "      <th>shot_open_goal_False</th>\n",
              "      <th>location_x</th>\n",
              "      <th>location_y</th>\n",
              "      <th>distance</th>\n",
              "      <th>end_location_x</th>\n",
              "      <th>end_location_y</th>\n",
              "      <th>end_location_z</th>\n",
              "      <th>shot_outcome_name</th>\n",
              "    </tr>\n",
              "  </thead>\n",
              "  <tbody>\n",
              "    <tr>\n",
              "      <th>33</th>\n",
              "      <td>0</td>\n",
              "      <td>0</td>\n",
              "      <td>0</td>\n",
              "      <td>1</td>\n",
              "      <td>0</td>\n",
              "      <td>0</td>\n",
              "      <td>0</td>\n",
              "      <td>0</td>\n",
              "      <td>0</td>\n",
              "      <td>1</td>\n",
              "      <td>0</td>\n",
              "      <td>0</td>\n",
              "      <td>0</td>\n",
              "      <td>0</td>\n",
              "      <td>0</td>\n",
              "      <td>1</td>\n",
              "      <td>0</td>\n",
              "      <td>1</td>\n",
              "      <td>0</td>\n",
              "      <td>1</td>\n",
              "      <td>0</td>\n",
              "      <td>1</td>\n",
              "      <td>115.0</td>\n",
              "      <td>25.0</td>\n",
              "      <td>9.219544</td>\n",
              "      <td>117.0</td>\n",
              "      <td>34.0</td>\n",
              "      <td>0.0</td>\n",
              "      <td>0</td>\n",
              "    </tr>\n",
              "    <tr>\n",
              "      <th>186</th>\n",
              "      <td>0</td>\n",
              "      <td>0</td>\n",
              "      <td>0</td>\n",
              "      <td>1</td>\n",
              "      <td>0</td>\n",
              "      <td>0</td>\n",
              "      <td>0</td>\n",
              "      <td>0</td>\n",
              "      <td>0</td>\n",
              "      <td>1</td>\n",
              "      <td>0</td>\n",
              "      <td>0</td>\n",
              "      <td>0</td>\n",
              "      <td>1</td>\n",
              "      <td>0</td>\n",
              "      <td>0</td>\n",
              "      <td>0</td>\n",
              "      <td>1</td>\n",
              "      <td>0</td>\n",
              "      <td>1</td>\n",
              "      <td>0</td>\n",
              "      <td>1</td>\n",
              "      <td>109.0</td>\n",
              "      <td>51.0</td>\n",
              "      <td>7.615773</td>\n",
              "      <td>112.0</td>\n",
              "      <td>44.0</td>\n",
              "      <td>0.0</td>\n",
              "      <td>0</td>\n",
              "    </tr>\n",
              "    <tr>\n",
              "      <th>192</th>\n",
              "      <td>0</td>\n",
              "      <td>0</td>\n",
              "      <td>0</td>\n",
              "      <td>1</td>\n",
              "      <td>0</td>\n",
              "      <td>0</td>\n",
              "      <td>0</td>\n",
              "      <td>1</td>\n",
              "      <td>0</td>\n",
              "      <td>0</td>\n",
              "      <td>0</td>\n",
              "      <td>0</td>\n",
              "      <td>0</td>\n",
              "      <td>0</td>\n",
              "      <td>0</td>\n",
              "      <td>1</td>\n",
              "      <td>1</td>\n",
              "      <td>0</td>\n",
              "      <td>0</td>\n",
              "      <td>1</td>\n",
              "      <td>0</td>\n",
              "      <td>1</td>\n",
              "      <td>99.0</td>\n",
              "      <td>52.0</td>\n",
              "      <td>9.055385</td>\n",
              "      <td>108.0</td>\n",
              "      <td>51.0</td>\n",
              "      <td>0.0</td>\n",
              "      <td>0</td>\n",
              "    </tr>\n",
              "    <tr>\n",
              "      <th>196</th>\n",
              "      <td>0</td>\n",
              "      <td>0</td>\n",
              "      <td>0</td>\n",
              "      <td>1</td>\n",
              "      <td>0</td>\n",
              "      <td>0</td>\n",
              "      <td>0</td>\n",
              "      <td>0</td>\n",
              "      <td>0</td>\n",
              "      <td>1</td>\n",
              "      <td>0</td>\n",
              "      <td>0</td>\n",
              "      <td>0</td>\n",
              "      <td>0</td>\n",
              "      <td>0</td>\n",
              "      <td>1</td>\n",
              "      <td>0</td>\n",
              "      <td>1</td>\n",
              "      <td>0</td>\n",
              "      <td>1</td>\n",
              "      <td>0</td>\n",
              "      <td>1</td>\n",
              "      <td>107.0</td>\n",
              "      <td>40.0</td>\n",
              "      <td>5.830952</td>\n",
              "      <td>112.0</td>\n",
              "      <td>37.0</td>\n",
              "      <td>0.0</td>\n",
              "      <td>0</td>\n",
              "    </tr>\n",
              "    <tr>\n",
              "      <th>204</th>\n",
              "      <td>0</td>\n",
              "      <td>0</td>\n",
              "      <td>0</td>\n",
              "      <td>1</td>\n",
              "      <td>0</td>\n",
              "      <td>0</td>\n",
              "      <td>0</td>\n",
              "      <td>0</td>\n",
              "      <td>0</td>\n",
              "      <td>1</td>\n",
              "      <td>0</td>\n",
              "      <td>0</td>\n",
              "      <td>0</td>\n",
              "      <td>1</td>\n",
              "      <td>0</td>\n",
              "      <td>0</td>\n",
              "      <td>1</td>\n",
              "      <td>0</td>\n",
              "      <td>0</td>\n",
              "      <td>1</td>\n",
              "      <td>0</td>\n",
              "      <td>1</td>\n",
              "      <td>108.0</td>\n",
              "      <td>32.0</td>\n",
              "      <td>16.211416</td>\n",
              "      <td>120.0</td>\n",
              "      <td>42.9</td>\n",
              "      <td>1.9</td>\n",
              "      <td>1</td>\n",
              "    </tr>\n",
              "  </tbody>\n",
              "</table>\n",
              "</div>"
            ],
            "text/plain": [
              "     shot_type_name_Corner  ...  shot_outcome_name\n",
              "33                       0  ...                  0\n",
              "186                      0  ...                  0\n",
              "192                      0  ...                  0\n",
              "196                      0  ...                  0\n",
              "204                      0  ...                  1\n",
              "\n",
              "[5 rows x 29 columns]"
            ]
          },
          "metadata": {
            "tags": []
          },
          "execution_count": 647
        }
      ]
    },
    {
      "cell_type": "code",
      "metadata": {
        "id": "pMMT-nK5Wql5",
        "colab_type": "code",
        "outputId": "6edb56f1-521b-4203-f8cc-7a314f71ff81",
        "colab": {
          "base_uri": "https://localhost:8080/",
          "height": 733
        }
      },
      "source": [
        "fig, ax = plt.subplots(figsize=(20,10))\n",
        "sns.heatmap(df.corr(),annot = True,cmap=\"YlGnBu\");"
      ],
      "execution_count": 0,
      "outputs": [
        {
          "output_type": "display_data",
          "data": {
            "image/png": "[encoded data removed]",
            "text/plain": [
              "<Figure size 1440x720 with 2 Axes>"
            ]
          },
          "metadata": {
            "tags": [],
            "needs_background": "light"
          }
        }
      ]
    },
    {
      "cell_type": "code",
      "metadata": {
        "id": "g2uKVZUrTdGC",
        "colab_type": "code",
        "outputId": "72f78d98-b5f8-4146-e97f-7578afb80159",
        "colab": {
          "base_uri": "https://localhost:8080/",
          "height": 35
        }
      },
      "source": [
        "len(df.columns)"
      ],
      "execution_count": 0,
      "outputs": [
        {
          "output_type": "execute_result",
          "data": {
            "text/plain": [
              "29"
            ]
          },
          "metadata": {
            "tags": []
          },
          "execution_count": 648
        }
      ]
    },
    {
      "cell_type": "code",
      "metadata": {
        "id": "vIVNpnXUTV1g",
        "colab_type": "code",
        "colab": {}
      },
      "source": [
        "X = df.iloc[:, 0:28].values\n",
        "y = df.iloc[:, 28].values"
      ],
      "execution_count": 0,
      "outputs": []
    },
    {
      "cell_type": "markdown",
      "metadata": {
        "id": "RJ7t4GqWDnen",
        "colab_type": "text"
      },
      "source": [
        "Scaling and PCA"
      ]
    },
    {
      "cell_type": "code",
      "metadata": {
        "id": "oUn379MZWlNk",
        "colab_type": "code",
        "colab": {}
      },
      "source": [
        "from sklearn.decomposition import PCA\n",
        "pca = PCA(n_components=9)\n",
        "X = pca.fit_transform(X)"
      ],
      "execution_count": 0,
      "outputs": []
    },
    {
      "cell_type": "code",
      "metadata": {
        "id": "EVueYKS7T317",
        "colab_type": "code",
        "colab": {}
      },
      "source": [
        "from sklearn.preprocessing import StandardScaler\n",
        "sc = StandardScaler()\n",
        "X = sc.fit_transform(X)"
      ],
      "execution_count": 0,
      "outputs": []
    },
    {
      "cell_type": "code",
      "metadata": {
        "id": "WKryoDzTUXQV",
        "colab_type": "code",
        "outputId": "3dd45658-04f2-4cbe-a066-006032173899",
        "colab": {
          "base_uri": "https://localhost:8080/",
          "height": 52
        }
      },
      "source": [
        "X[0]"
      ],
      "execution_count": 0,
      "outputs": [
        {
          "output_type": "execute_result",
          "data": {
            "text/plain": [
              "array([-0.89215146, -1.52027804, -0.66441355,  0.17835005,  1.02162972,\n",
              "       -0.48124366, -0.1118663 , -1.26937363,  0.15674699])"
            ]
          },
          "metadata": {
            "tags": []
          },
          "execution_count": 652
        }
      ]
    },
    {
      "cell_type": "code",
      "metadata": {
        "id": "t02unjgbUX_e",
        "colab_type": "code",
        "colab": {}
      },
      "source": [
        "from sklearn.model_selection import train_test_split\n",
        "#split the data\n",
        "X_train, X_test, y_train, y_test = train_test_split(X, y, test_size = 0.25, random_state = 100)"
      ],
      "execution_count": 0,
      "outputs": []
    },
    {
      "cell_type": "code",
      "metadata": {
        "id": "mmVQsUzpUf4s",
        "colab_type": "code",
        "colab": {}
      },
      "source": [
        "import xgboost as xgb\n",
        "model=xgb.XGBClassifier(random_state=1,learning_rate=0.01,n_estimators=200,max_depth=4,subsample=0.5)\n",
        "model.fit(X_train, y_train)\n",
        "y_pred = model.predict(X_test)"
      ],
      "execution_count": 0,
      "outputs": []
    },
    {
      "cell_type": "code",
      "metadata": {
        "id": "n9P02cy5VaFV",
        "colab_type": "code",
        "colab": {}
      },
      "source": [
        "y_pred_proba_xgb = model.predict_proba(X)[:,1]\n",
        "y_pred=model.predict_proba(X)"
      ],
      "execution_count": 0,
      "outputs": []
    },
    {
      "cell_type": "code",
      "metadata": {
        "id": "dG0B4e5vVnVm",
        "colab_type": "code",
        "outputId": "e68f80ce-5607-43dd-b229-1a73a8a0f0cb",
        "colab": {
          "base_uri": "https://localhost:8080/",
          "height": 52
        }
      },
      "source": [
        "y_pred_proba_xgb"
      ],
      "execution_count": 0,
      "outputs": [
        {
          "output_type": "execute_result",
          "data": {
            "text/plain": [
              "array([0.1863057 , 0.06823804, 0.06827267, ..., 0.07059267, 0.5907775 ,\n",
              "       0.17903784], dtype=float32)"
            ]
          },
          "metadata": {
            "tags": []
          },
          "execution_count": 656
        }
      ]
    },
    {
      "cell_type": "code",
      "metadata": {
        "id": "VqKC-BIdVosP",
        "colab_type": "code",
        "outputId": "f492ad16-8d0d-4110-963e-fcebded2eb74",
        "colab": {
          "base_uri": "https://localhost:8080/",
          "height": 52
        }
      },
      "source": [
        "xg_values.values"
      ],
      "execution_count": 0,
      "outputs": [
        {
          "output_type": "execute_result",
          "data": {
            "text/plain": [
              "array([0.12362336, 0.05948667, 0.02441732, ..., 0.05580321, 0.459527  ,\n",
              "       0.1598031 ])"
            ]
          },
          "metadata": {
            "tags": []
          },
          "execution_count": 624
        }
      ]
    },
    {
      "cell_type": "code",
      "metadata": {
        "id": "83zx0Qlz1bDK",
        "colab_type": "code",
        "outputId": "4b6e19ef-2bfd-4f11-eabe-840c557167cf",
        "colab": {
          "base_uri": "https://localhost:8080/",
          "height": 265
        }
      },
      "source": [
        "plt.plot(y_pred_proba_xgb) # plotting by columns\n",
        "plt.show()"
      ],
      "execution_count": 0,
      "outputs": [
        {
          "output_type": "display_data",
          "data": {
            "image/png": "[encoded data removed]",
            "text/plain": [
              "<Figure size 432x288 with 1 Axes>"
            ]
          },
          "metadata": {
            "tags": [],
            "needs_background": "light"
          }
        }
      ]
    },
    {
      "cell_type": "code",
      "metadata": {
        "id": "Efpi3behCyXG",
        "colab_type": "code",
        "outputId": "533d2b0f-0e99-4c02-d822-f7f1c126a91b",
        "colab": {
          "base_uri": "https://localhost:8080/",
          "height": 265
        }
      },
      "source": [
        "plt.plot(ef.shot_statsbomb_xg.values) # plotting by columns\n",
        "plt.show()"
      ],
      "execution_count": 0,
      "outputs": [
        {
          "output_type": "display_data",
          "data": {
            "image/png": "[encoded data removed]",
            "text/plain": [
              "<Figure size 432x288 with 1 Axes>"
            ]
          },
          "metadata": {
            "tags": [],
            "needs_background": "light"
          }
        }
      ]
    },
    {
      "cell_type": "code",
      "metadata": {
        "id": "Py9icxsPBhug",
        "colab_type": "code",
        "colab": {}
      },
      "source": [
        ""
      ],
      "execution_count": 0,
      "outputs": []
    }
  ]
}